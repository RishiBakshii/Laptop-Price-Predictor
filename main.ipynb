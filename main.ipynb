{
 "cells": [
  {
   "attachments": {},
   "cell_type": "markdown",
   "metadata": {},
   "source": [
    "### Importing Libraries"
   ]
  },
  {
   "cell_type": "code",
   "execution_count": 442,
   "metadata": {},
   "outputs": [],
   "source": [
    "import pandas as pd\n",
    "import numpy as np\n",
    "import matplotlib.pyplot as plt\n",
    "import seaborn as sns\n",
    "import pickle\n",
    "import warnings\n",
    "from statsmodels.stats.outliers_influence import variance_inflation_factor\n",
    "from sklearn.model_selection import train_test_split\n",
    "from sklearn.compose import ColumnTransformer\n",
    "from sklearn.pipeline import Pipeline\n",
    "from sklearn.preprocessing import OneHotEncoder\n",
    "from sklearn.metrics import r2_score,mean_absolute_error\n",
    "\n",
    "from sklearn.ensemble import RandomForestRegressor\n",
    "warnings.filterwarnings('ignore')\n",
    "pd.set_option(\"max_columns\",500)"
   ]
  },
  {
   "attachments": {},
   "cell_type": "markdown",
   "metadata": {},
   "source": [
    "### Loading the dataset"
   ]
  },
  {
   "cell_type": "code",
   "execution_count": 443,
   "metadata": {},
   "outputs": [
    {
     "data": {
      "text/html": [
       "<div>\n",
       "<style scoped>\n",
       "    .dataframe tbody tr th:only-of-type {\n",
       "        vertical-align: middle;\n",
       "    }\n",
       "\n",
       "    .dataframe tbody tr th {\n",
       "        vertical-align: top;\n",
       "    }\n",
       "\n",
       "    .dataframe thead th {\n",
       "        text-align: right;\n",
       "    }\n",
       "</style>\n",
       "<table border=\"1\" class=\"dataframe\">\n",
       "  <thead>\n",
       "    <tr style=\"text-align: right;\">\n",
       "      <th></th>\n",
       "      <th>Unnamed: 0</th>\n",
       "      <th>Company</th>\n",
       "      <th>TypeName</th>\n",
       "      <th>Inches</th>\n",
       "      <th>ScreenResolution</th>\n",
       "      <th>Cpu</th>\n",
       "      <th>Ram</th>\n",
       "      <th>Memory</th>\n",
       "      <th>Gpu</th>\n",
       "      <th>OpSys</th>\n",
       "      <th>Weight</th>\n",
       "      <th>Price</th>\n",
       "    </tr>\n",
       "  </thead>\n",
       "  <tbody>\n",
       "    <tr>\n",
       "      <th>0</th>\n",
       "      <td>0</td>\n",
       "      <td>Apple</td>\n",
       "      <td>Ultrabook</td>\n",
       "      <td>13.3</td>\n",
       "      <td>IPS Panel Retina Display 2560x1600</td>\n",
       "      <td>Intel Core i5 2.3GHz</td>\n",
       "      <td>8GB</td>\n",
       "      <td>128GB SSD</td>\n",
       "      <td>Intel Iris Plus Graphics 640</td>\n",
       "      <td>macOS</td>\n",
       "      <td>1.37kg</td>\n",
       "      <td>71378.6832</td>\n",
       "    </tr>\n",
       "    <tr>\n",
       "      <th>1</th>\n",
       "      <td>1</td>\n",
       "      <td>Apple</td>\n",
       "      <td>Ultrabook</td>\n",
       "      <td>13.3</td>\n",
       "      <td>1440x900</td>\n",
       "      <td>Intel Core i5 1.8GHz</td>\n",
       "      <td>8GB</td>\n",
       "      <td>128GB Flash Storage</td>\n",
       "      <td>Intel HD Graphics 6000</td>\n",
       "      <td>macOS</td>\n",
       "      <td>1.34kg</td>\n",
       "      <td>47895.5232</td>\n",
       "    </tr>\n",
       "    <tr>\n",
       "      <th>2</th>\n",
       "      <td>2</td>\n",
       "      <td>HP</td>\n",
       "      <td>Notebook</td>\n",
       "      <td>15.6</td>\n",
       "      <td>Full HD 1920x1080</td>\n",
       "      <td>Intel Core i5 7200U 2.5GHz</td>\n",
       "      <td>8GB</td>\n",
       "      <td>256GB SSD</td>\n",
       "      <td>Intel HD Graphics 620</td>\n",
       "      <td>No OS</td>\n",
       "      <td>1.86kg</td>\n",
       "      <td>30636.0000</td>\n",
       "    </tr>\n",
       "    <tr>\n",
       "      <th>3</th>\n",
       "      <td>3</td>\n",
       "      <td>Apple</td>\n",
       "      <td>Ultrabook</td>\n",
       "      <td>15.4</td>\n",
       "      <td>IPS Panel Retina Display 2880x1800</td>\n",
       "      <td>Intel Core i7 2.7GHz</td>\n",
       "      <td>16GB</td>\n",
       "      <td>512GB SSD</td>\n",
       "      <td>AMD Radeon Pro 455</td>\n",
       "      <td>macOS</td>\n",
       "      <td>1.83kg</td>\n",
       "      <td>135195.3360</td>\n",
       "    </tr>\n",
       "    <tr>\n",
       "      <th>4</th>\n",
       "      <td>4</td>\n",
       "      <td>Apple</td>\n",
       "      <td>Ultrabook</td>\n",
       "      <td>13.3</td>\n",
       "      <td>IPS Panel Retina Display 2560x1600</td>\n",
       "      <td>Intel Core i5 3.1GHz</td>\n",
       "      <td>8GB</td>\n",
       "      <td>256GB SSD</td>\n",
       "      <td>Intel Iris Plus Graphics 650</td>\n",
       "      <td>macOS</td>\n",
       "      <td>1.37kg</td>\n",
       "      <td>96095.8080</td>\n",
       "    </tr>\n",
       "  </tbody>\n",
       "</table>\n",
       "</div>"
      ],
      "text/plain": [
       "   Unnamed: 0 Company   TypeName  Inches                    ScreenResolution  \\\n",
       "0           0   Apple  Ultrabook    13.3  IPS Panel Retina Display 2560x1600   \n",
       "1           1   Apple  Ultrabook    13.3                            1440x900   \n",
       "2           2      HP   Notebook    15.6                   Full HD 1920x1080   \n",
       "3           3   Apple  Ultrabook    15.4  IPS Panel Retina Display 2880x1800   \n",
       "4           4   Apple  Ultrabook    13.3  IPS Panel Retina Display 2560x1600   \n",
       "\n",
       "                          Cpu   Ram               Memory  \\\n",
       "0        Intel Core i5 2.3GHz   8GB            128GB SSD   \n",
       "1        Intel Core i5 1.8GHz   8GB  128GB Flash Storage   \n",
       "2  Intel Core i5 7200U 2.5GHz   8GB            256GB SSD   \n",
       "3        Intel Core i7 2.7GHz  16GB            512GB SSD   \n",
       "4        Intel Core i5 3.1GHz   8GB            256GB SSD   \n",
       "\n",
       "                            Gpu  OpSys  Weight        Price  \n",
       "0  Intel Iris Plus Graphics 640  macOS  1.37kg   71378.6832  \n",
       "1        Intel HD Graphics 6000  macOS  1.34kg   47895.5232  \n",
       "2         Intel HD Graphics 620  No OS  1.86kg   30636.0000  \n",
       "3            AMD Radeon Pro 455  macOS  1.83kg  135195.3360  \n",
       "4  Intel Iris Plus Graphics 650  macOS  1.37kg   96095.8080  "
      ]
     },
     "execution_count": 443,
     "metadata": {},
     "output_type": "execute_result"
    }
   ],
   "source": [
    "df=pd.read_csv('./data/laptop_data.csv')\n",
    "df.head()"
   ]
  },
  {
   "attachments": {},
   "cell_type": "markdown",
   "metadata": {},
   "source": [
    "### Dropping the 'Unnamed:' column"
   ]
  },
  {
   "cell_type": "code",
   "execution_count": 444,
   "metadata": {},
   "outputs": [],
   "source": [
    "df=df.iloc[:,1:]"
   ]
  },
  {
   "attachments": {},
   "cell_type": "markdown",
   "metadata": {},
   "source": [
    "### Checking the shape"
   ]
  },
  {
   "cell_type": "code",
   "execution_count": 445,
   "metadata": {},
   "outputs": [
    {
     "data": {
      "text/plain": [
       "(1303, 11)"
      ]
     },
     "execution_count": 445,
     "metadata": {},
     "output_type": "execute_result"
    }
   ],
   "source": [
    "df.shape"
   ]
  },
  {
   "attachments": {},
   "cell_type": "markdown",
   "metadata": {},
   "source": [
    "#### Dataset has 1303 rows and 11 columns"
   ]
  },
  {
   "cell_type": "code",
   "execution_count": 446,
   "metadata": {},
   "outputs": [
    {
     "name": "stdout",
     "output_type": "stream",
     "text": [
      "<class 'pandas.core.frame.DataFrame'>\n",
      "RangeIndex: 1303 entries, 0 to 1302\n",
      "Data columns (total 11 columns):\n",
      " #   Column            Non-Null Count  Dtype  \n",
      "---  ------            --------------  -----  \n",
      " 0   Company           1303 non-null   object \n",
      " 1   TypeName          1303 non-null   object \n",
      " 2   Inches            1303 non-null   float64\n",
      " 3   ScreenResolution  1303 non-null   object \n",
      " 4   Cpu               1303 non-null   object \n",
      " 5   Ram               1303 non-null   object \n",
      " 6   Memory            1303 non-null   object \n",
      " 7   Gpu               1303 non-null   object \n",
      " 8   OpSys             1303 non-null   object \n",
      " 9   Weight            1303 non-null   object \n",
      " 10  Price             1303 non-null   float64\n",
      "dtypes: float64(2), object(9)\n",
      "memory usage: 112.1+ KB\n"
     ]
    }
   ],
   "source": [
    "df.info()"
   ]
  },
  {
   "attachments": {},
   "cell_type": "markdown",
   "metadata": {},
   "source": [
    "#### No Null values are present in the dataset\n",
    "- [ Inches and Price ] are the only columns having float datatype rest are object"
   ]
  },
  {
   "cell_type": "code",
   "execution_count": 447,
   "metadata": {},
   "outputs": [
    {
     "data": {
      "text/plain": [
       "29"
      ]
     },
     "execution_count": 447,
     "metadata": {},
     "output_type": "execute_result"
    }
   ],
   "source": [
    "df.duplicated().sum()"
   ]
  },
  {
   "attachments": {},
   "cell_type": "markdown",
   "metadata": {},
   "source": [
    "#### 29 Duplicate values are present"
   ]
  },
  {
   "attachments": {},
   "cell_type": "markdown",
   "metadata": {},
   "source": [
    "### Droppping The Duplicates"
   ]
  },
  {
   "cell_type": "code",
   "execution_count": 448,
   "metadata": {},
   "outputs": [],
   "source": [
    "df.drop_duplicates(inplace=True)"
   ]
  },
  {
   "attachments": {},
   "cell_type": "markdown",
   "metadata": {},
   "source": [
    "#### Cleaning Ram column : 8GB -> 8"
   ]
  },
  {
   "cell_type": "code",
   "execution_count": 449,
   "metadata": {},
   "outputs": [],
   "source": [
    "df['Ram']=df['Ram'].str.replace('GB','').astype('int64')"
   ]
  },
  {
   "attachments": {},
   "cell_type": "markdown",
   "metadata": {},
   "source": [
    "#### Cleaning Weight Column : 1.86kg -> 1.86"
   ]
  },
  {
   "cell_type": "code",
   "execution_count": 450,
   "metadata": {},
   "outputs": [],
   "source": [
    "df['Weight']=df['Weight'].str.replace('kg','').astype('float64')"
   ]
  },
  {
   "attachments": {},
   "cell_type": "markdown",
   "metadata": {},
   "source": [
    "## Univariate Analysis ( Price )"
   ]
  },
  {
   "cell_type": "code",
   "execution_count": 451,
   "metadata": {},
   "outputs": [
    {
     "data": {
      "image/png": "[encoded data removed]",
      "text/plain": [
       "<Figure size 640x480 with 1 Axes>"
      ]
     },
     "metadata": {},
     "output_type": "display_data"
    }
   ],
   "source": [
    "sns.distplot(df['Price'])\n",
    "plt.show()"
   ]
  },
  {
   "attachments": {},
   "cell_type": "markdown",
   "metadata": {},
   "source": [
    "#### Distribution of the price is right skewed"
   ]
  },
  {
   "attachments": {},
   "cell_type": "markdown",
   "metadata": {},
   "source": [
    "### Univariate Analysis ( Company )"
   ]
  },
  {
   "cell_type": "code",
   "execution_count": 452,
   "metadata": {},
   "outputs": [
    {
     "data": {
      "text/plain": [
       "Dell         22.841444\n",
       "Lenovo       22.684458\n",
       "HP           21.036107\n",
       "Asus         11.852433\n",
       "Acer          7.927786\n",
       "MSI           4.238619\n",
       "Toshiba       3.767661\n",
       "Apple         1.648352\n",
       "Samsung       0.706436\n",
       "Razer         0.549451\n",
       "Mediacom      0.549451\n",
       "Microsoft     0.470958\n",
       "Xiaomi        0.313972\n",
       "Vero          0.313972\n",
       "Chuwi         0.235479\n",
       "Google        0.235479\n",
       "Fujitsu       0.235479\n",
       "LG            0.235479\n",
       "Huawei        0.156986\n",
       "Name: Company, dtype: float64"
      ]
     },
     "execution_count": 452,
     "metadata": {},
     "output_type": "execute_result"
    }
   ],
   "source": [
    "df['Company'].value_counts()/len(df)*100"
   ]
  },
  {
   "cell_type": "code",
   "execution_count": 453,
   "metadata": {},
   "outputs": [
    {
     "data": {
      "image/png": "[encoded data removed]",
      "text/plain": [
       "<Figure size 640x480 with 1 Axes>"
      ]
     },
     "metadata": {},
     "output_type": "display_data"
    }
   ],
   "source": [
    "df['Company'].value_counts().plot(kind='bar')\n",
    "plt.show()"
   ]
  },
  {
   "attachments": {},
   "cell_type": "markdown",
   "metadata": {},
   "source": [
    "#### [Dell, Lenevo , HP , Asus , Acer] are some of the top companies present in the dataset"
   ]
  },
  {
   "attachments": {},
   "cell_type": "markdown",
   "metadata": {},
   "source": [
    "### Bivariate Analysis ( Company and Sales )"
   ]
  },
  {
   "cell_type": "code",
   "execution_count": 454,
   "metadata": {},
   "outputs": [
    {
     "data": {
      "image/png": "[encoded data removed]",
      "text/plain": [
       "<Figure size 640x480 with 1 Axes>"
      ]
     },
     "metadata": {},
     "output_type": "display_data"
    }
   ],
   "source": [
    "df.groupby(\"Company\")['Price'].mean().sort_values(ascending=False).plot.barh()\n",
    "plt.show()"
   ]
  },
  {
   "attachments": {},
   "cell_type": "markdown",
   "metadata": {},
   "source": [
    "- #### Razer has the highest mean Price of their laptops\n",
    "- #### Brands in the budget section are [HP , LENEVO , ASUS , XIAOMI , DELL]"
   ]
  },
  {
   "attachments": {},
   "cell_type": "markdown",
   "metadata": {},
   "source": [
    "### Univariate Analysis ( TypeName )"
   ]
  },
  {
   "cell_type": "code",
   "execution_count": 455,
   "metadata": {},
   "outputs": [
    {
     "data": {
      "text/plain": [
       "Notebook              55.416013\n",
       "Gaming                16.091052\n",
       "Ultrabook             15.227630\n",
       "2 in 1 Convertible     9.183673\n",
       "Workstation            2.276295\n",
       "Netbook                1.805338\n",
       "Name: TypeName, dtype: float64"
      ]
     },
     "execution_count": 455,
     "metadata": {},
     "output_type": "execute_result"
    }
   ],
   "source": [
    "df['TypeName'].value_counts()/len(df)*100"
   ]
  },
  {
   "cell_type": "code",
   "execution_count": 456,
   "metadata": {},
   "outputs": [
    {
     "data": {
      "image/png": "[encoded data removed]",
      "text/plain": [
       "<Figure size 640x480 with 1 Axes>"
      ]
     },
     "metadata": {},
     "output_type": "display_data"
    }
   ],
   "source": [
    "df['TypeName'].value_counts().plot.bar()\n",
    "plt.show()"
   ]
  },
  {
   "attachments": {},
   "cell_type": "markdown",
   "metadata": {},
   "source": [
    "- #### Notebooks are dominating the category segment with a selling rate of 55.41% [ this category of laptop is being purchashed the most]"
   ]
  },
  {
   "attachments": {},
   "cell_type": "markdown",
   "metadata": {},
   "source": [
    "### Bivariate Analysis (TypeName and Price)"
   ]
  },
  {
   "cell_type": "code",
   "execution_count": 457,
   "metadata": {},
   "outputs": [
    {
     "data": {
      "image/png": "[encoded data removed]",
      "text/plain": [
       "<Figure size 640x480 with 1 Axes>"
      ]
     },
     "metadata": {},
     "output_type": "display_data"
    }
   ],
   "source": [
    "df.groupby('TypeName')['Price'].mean().sort_values().plot.bar()\n",
    "plt.show()"
   ]
  },
  {
   "attachments": {},
   "cell_type": "markdown",
   "metadata": {},
   "source": [
    "- #### Notebooks Falls in the budget range [ Clarifies why they are being purchased the most]\n",
    "- #### Netbook are the inexpensive ones\n",
    "- #### Workstation are the most expensive there avg price is above 1 lakh "
   ]
  },
  {
   "attachments": {},
   "cell_type": "markdown",
   "metadata": {},
   "source": [
    "### Univarite analysis (Inches)"
   ]
  },
  {
   "cell_type": "code",
   "execution_count": 458,
   "metadata": {},
   "outputs": [
    {
     "data": {
      "text/plain": [
       "15.6    50.706436\n",
       "14.0    15.149137\n",
       "17.3    12.872841\n",
       "13.3    12.558870\n",
       "12.5     3.061224\n",
       "11.6     2.433281\n",
       "12.0     0.470958\n",
       "13.5     0.470958\n",
       "13.9     0.470958\n",
       "12.3     0.392465\n",
       "10.1     0.313972\n",
       "15.4     0.313972\n",
       "15.0     0.313972\n",
       "13.0     0.156986\n",
       "18.4     0.078493\n",
       "17.0     0.078493\n",
       "14.1     0.078493\n",
       "11.3     0.078493\n",
       "Name: Inches, dtype: float64"
      ]
     },
     "execution_count": 458,
     "metadata": {},
     "output_type": "execute_result"
    }
   ],
   "source": [
    "df['Inches'].value_counts()/len(df)*100"
   ]
  },
  {
   "cell_type": "code",
   "execution_count": 459,
   "metadata": {},
   "outputs": [
    {
     "data": {
      "image/png": "[encoded data removed]",
      "text/plain": [
       "<Figure size 640x480 with 1 Axes>"
      ]
     },
     "metadata": {},
     "output_type": "display_data"
    }
   ],
   "source": [
    "sns.distplot(df['Inches'])\n",
    "plt.show()"
   ]
  },
  {
   "attachments": {},
   "cell_type": "markdown",
   "metadata": {},
   "source": [
    "- #### Most selling laptops are of 15.6 screen size\n",
    "- #### Second most are 14.0 inches screen size"
   ]
  },
  {
   "attachments": {},
   "cell_type": "markdown",
   "metadata": {},
   "source": [
    "### Bivariate Analysis (Inches and Price)"
   ]
  },
  {
   "cell_type": "code",
   "execution_count": 460,
   "metadata": {},
   "outputs": [
    {
     "data": {
      "image/png": "[encoded data removed]",
      "text/plain": [
       "<Figure size 640x480 with 1 Axes>"
      ]
     },
     "metadata": {},
     "output_type": "display_data"
    }
   ],
   "source": [
    "df.groupby('Inches')['Price'].mean().plot.bar()\n",
    "plt.title(\"Average Price of Laptops w.r.t ScreenSize(inch)\")\n",
    "plt.show()"
   ]
  },
  {
   "attachments": {},
   "cell_type": "markdown",
   "metadata": {},
   "source": [
    "- #### this plot verifies the reason for most selling laptops of screensize [14.0 and 15.6]\n",
    "- #### because the price of these respective screen sizes comes in the budget range of the customer [45k ~ 60k]\n"
   ]
  },
  {
   "attachments": {},
   "cell_type": "markdown",
   "metadata": {},
   "source": [
    "## Feature Engineering (Feature Extraction)"
   ]
  },
  {
   "cell_type": "code",
   "execution_count": 461,
   "metadata": {},
   "outputs": [
    {
     "data": {
      "text/plain": [
       "Full HD 1920x1080                                505\n",
       "1366x768                                         262\n",
       "IPS Panel Full HD 1920x1080                      226\n",
       "IPS Panel Full HD / Touchscreen 1920x1080         51\n",
       "Full HD / Touchscreen 1920x1080                   47\n",
       "1600x900                                          23\n",
       "Touchscreen 1366x768                              16\n",
       "Quad HD+ / Touchscreen 3200x1800                  15\n",
       "IPS Panel 4K Ultra HD 3840x2160                   12\n",
       "IPS Panel 4K Ultra HD / Touchscreen 3840x2160     11\n",
       "4K Ultra HD / Touchscreen 3840x2160               10\n",
       "4K Ultra HD 3840x2160                              7\n",
       "Touchscreen 2560x1440                              7\n",
       "IPS Panel 1366x768                                 7\n",
       "IPS Panel Retina Display 2560x1600                 6\n",
       "IPS Panel Retina Display 2304x1440                 6\n",
       "Touchscreen 2256x1504                              6\n",
       "IPS Panel Touchscreen 2560x1440                    5\n",
       "IPS Panel Quad HD+ / Touchscreen 3200x1800         4\n",
       "IPS Panel Touchscreen 1920x1200                    4\n",
       "1440x900                                           4\n",
       "IPS Panel Retina Display 2880x1800                 4\n",
       "IPS Panel 2560x1440                                4\n",
       "2560x1440                                          3\n",
       "Quad HD+ 3200x1800                                 3\n",
       "1920x1080                                          3\n",
       "Touchscreen 2400x1600                              3\n",
       "IPS Panel Quad HD+ 2560x1440                       3\n",
       "IPS Panel Touchscreen 1366x768                     3\n",
       "IPS Panel Touchscreen / 4K Ultra HD 3840x2160      2\n",
       "IPS Panel Full HD 2160x1440                        2\n",
       "IPS Panel Quad HD+ 3200x1800                       2\n",
       "IPS Panel Retina Display 2736x1824                 1\n",
       "IPS Panel Full HD 1920x1200                        1\n",
       "IPS Panel Full HD 2560x1440                        1\n",
       "IPS Panel Full HD 1366x768                         1\n",
       "Touchscreen / Full HD 1920x1080                    1\n",
       "Touchscreen / Quad HD+ 3200x1800                   1\n",
       "Touchscreen / 4K Ultra HD 3840x2160                1\n",
       "IPS Panel Touchscreen 2400x1600                    1\n",
       "Name: ScreenResolution, dtype: int64"
      ]
     },
     "execution_count": 461,
     "metadata": {},
     "output_type": "execute_result"
    }
   ],
   "source": [
    "df['ScreenResolution'].value_counts()"
   ]
  },
  {
   "attachments": {},
   "cell_type": "markdown",
   "metadata": {},
   "source": [
    "#### This columns contains information about\n",
    "- having touchscreen\n",
    "- having IPS PANEL\n",
    "- Resolution X\n",
    "- Resolution Y"
   ]
  },
  {
   "attachments": {},
   "cell_type": "markdown",
   "metadata": {},
   "source": [
    "### Multiple Columns can be Extracted from this feature"
   ]
  },
  {
   "attachments": {},
   "cell_type": "markdown",
   "metadata": {},
   "source": [
    "### Extracting and making new column  [***Touchscreen***] from ScreenResolution"
   ]
  },
  {
   "cell_type": "code",
   "execution_count": 462,
   "metadata": {},
   "outputs": [],
   "source": [
    "df['Touchscreen']=df['ScreenResolution'].apply(lambda x: 1 if 'Touchscreen' in x else 0)"
   ]
  },
  {
   "cell_type": "code",
   "execution_count": 463,
   "metadata": {},
   "outputs": [
    {
     "data": {
      "text/plain": [
       "0    85.243328\n",
       "1    14.756672\n",
       "Name: Touchscreen, dtype: float64"
      ]
     },
     "execution_count": 463,
     "metadata": {},
     "output_type": "execute_result"
    }
   ],
   "source": [
    "df['Touchscreen'].value_counts()/len(df)*100"
   ]
  },
  {
   "attachments": {},
   "cell_type": "markdown",
   "metadata": {},
   "source": [
    "### Univariate Analysis ( Touchscreen )"
   ]
  },
  {
   "cell_type": "code",
   "execution_count": 464,
   "metadata": {},
   "outputs": [
    {
     "data": {
      "image/png": "[encoded data removed]",
      "text/plain": [
       "<Figure size 640x480 with 1 Axes>"
      ]
     },
     "metadata": {},
     "output_type": "display_data"
    }
   ],
   "source": [
    "df['Touchscreen'].value_counts().plot.bar()\n",
    "plt.title(f\"Frequency Distribution of Touchscreen Laptops\")\n",
    "plt.show()"
   ]
  },
  {
   "attachments": {},
   "cell_type": "markdown",
   "metadata": {},
   "source": [
    "- #### Laptops Not having touchscreen are selling at a booming rate 85.24% while laptops having touchscreen have a selling rate of 14.7% according to the data"
   ]
  },
  {
   "attachments": {},
   "cell_type": "markdown",
   "metadata": {},
   "source": [
    "### Bivariate Analysis ( Touchscreen and Price )"
   ]
  },
  {
   "cell_type": "code",
   "execution_count": 465,
   "metadata": {},
   "outputs": [
    {
     "data": {
      "text/plain": [
       "Touchscreen\n",
       "0    57574.306674\n",
       "1    77422.131574\n",
       "Name: Price, dtype: float64"
      ]
     },
     "execution_count": 465,
     "metadata": {},
     "output_type": "execute_result"
    }
   ],
   "source": [
    "df.groupby('Touchscreen')['Price'].mean()"
   ]
  },
  {
   "cell_type": "code",
   "execution_count": 466,
   "metadata": {},
   "outputs": [
    {
     "data": {
      "image/png": "[encoded data removed]",
      "text/plain": [
       "<Figure size 640x480 with 1 Axes>"
      ]
     },
     "metadata": {},
     "output_type": "display_data"
    }
   ],
   "source": [
    "df.groupby('Touchscreen')['Price'].mean().plot.bar()\n",
    "plt.title('Impact of TouchScreen on Price ')\n",
    "plt.show()"
   ]
  },
  {
   "attachments": {},
   "cell_type": "markdown",
   "metadata": {},
   "source": [
    "- #### Average Price of a Touchscreen laptop is approx 77k while a simple laptop has 58k\n",
    "- #### Laptops with touchscreen are having higher avg Price\n",
    "- #### this again verifies why touchscreen laptops have low selling rate ..this is because they have higher avg price "
   ]
  },
  {
   "attachments": {},
   "cell_type": "markdown",
   "metadata": {},
   "source": [
    "### Extracting and making new column ***isIPS*** from ScreenResolution"
   ]
  },
  {
   "cell_type": "code",
   "execution_count": 467,
   "metadata": {},
   "outputs": [],
   "source": [
    "df['isIPS']=df['ScreenResolution'].apply(lambda x: 1 if 'IPS Panel' in x else 0)"
   ]
  },
  {
   "cell_type": "code",
   "execution_count": 468,
   "metadata": {},
   "outputs": [
    {
     "data": {
      "text/plain": [
       "0    71.978022\n",
       "1    28.021978\n",
       "Name: isIPS, dtype: float64"
      ]
     },
     "execution_count": 468,
     "metadata": {},
     "output_type": "execute_result"
    }
   ],
   "source": [
    "df['isIPS'].value_counts()/len(df)*100"
   ]
  },
  {
   "attachments": {},
   "cell_type": "markdown",
   "metadata": {},
   "source": [
    "### Univariate Analysis ( isIPS )"
   ]
  },
  {
   "cell_type": "code",
   "execution_count": 469,
   "metadata": {},
   "outputs": [
    {
     "data": {
      "image/png": "[encoded data removed]",
      "text/plain": [
       "<Figure size 640x480 with 1 Axes>"
      ]
     },
     "metadata": {},
     "output_type": "display_data"
    }
   ],
   "source": [
    "df['isIPS'].value_counts().plot.bar()\n",
    "plt.title('Count of Laptops having Ips panel or not')\n",
    "plt.show()"
   ]
  },
  {
   "attachments": {},
   "cell_type": "markdown",
   "metadata": {},
   "source": [
    "- #### Laptops not having IPS panel has a higher selling rate of 71.97%\n",
    "- #### Laptops not haivng IPS panel has a selling rate of 28.02% which is lower"
   ]
  },
  {
   "attachments": {},
   "cell_type": "markdown",
   "metadata": {},
   "source": [
    "### Bivariate Analysis ( isIPS and Price )"
   ]
  },
  {
   "cell_type": "code",
   "execution_count": 470,
   "metadata": {},
   "outputs": [
    {
     "data": {
      "text/plain": [
       "isIPS\n",
       "0    54673.631074\n",
       "1    75477.137506\n",
       "Name: Price, dtype: float64"
      ]
     },
     "execution_count": 470,
     "metadata": {},
     "output_type": "execute_result"
    }
   ],
   "source": [
    "df.groupby('isIPS')['Price'].mean()"
   ]
  },
  {
   "cell_type": "code",
   "execution_count": 471,
   "metadata": {},
   "outputs": [
    {
     "data": {
      "image/png": "[encoded data removed]",
      "text/plain": [
       "<Figure size 640x480 with 1 Axes>"
      ]
     },
     "metadata": {},
     "output_type": "display_data"
    }
   ],
   "source": [
    "df.groupby('isIPS')['Price'].mean().plot.bar()\n",
    "plt.show()"
   ]
  },
  {
   "attachments": {},
   "cell_type": "markdown",
   "metadata": {},
   "source": [
    "- #### Laptops having Ips panel seems to have higher avg Price\n",
    "- #### Without IPS PANEL avg price is 55k\n",
    "- #### With IPS PANEL avg price is 76k\n",
    "- #### despite having a higher average price ..laptops with Ips panel has a selling rate of 28% which is comparatively higher...\n",
    "- #### this somehow shows that customers are less likely to compromise with IPS panel displays"
   ]
  },
  {
   "attachments": {},
   "cell_type": "markdown",
   "metadata": {},
   "source": [
    "### Extracting and making new columns [***ResolutionX*** and ***ResolutionY*** ] from ScreenResolution"
   ]
  },
  {
   "cell_type": "code",
   "execution_count": 472,
   "metadata": {},
   "outputs": [
    {
     "data": {
      "text/html": [
       "<div>\n",
       "<style scoped>\n",
       "    .dataframe tbody tr th:only-of-type {\n",
       "        vertical-align: middle;\n",
       "    }\n",
       "\n",
       "    .dataframe tbody tr th {\n",
       "        vertical-align: top;\n",
       "    }\n",
       "\n",
       "    .dataframe thead th {\n",
       "        text-align: right;\n",
       "    }\n",
       "</style>\n",
       "<table border=\"1\" class=\"dataframe\">\n",
       "  <thead>\n",
       "    <tr style=\"text-align: right;\">\n",
       "      <th></th>\n",
       "      <th>0</th>\n",
       "      <th>1</th>\n",
       "    </tr>\n",
       "  </thead>\n",
       "  <tbody>\n",
       "    <tr>\n",
       "      <th>0</th>\n",
       "      <td>IPS Panel Retina Display 2560</td>\n",
       "      <td>1600</td>\n",
       "    </tr>\n",
       "    <tr>\n",
       "      <th>1</th>\n",
       "      <td>1440</td>\n",
       "      <td>900</td>\n",
       "    </tr>\n",
       "    <tr>\n",
       "      <th>2</th>\n",
       "      <td>Full HD 1920</td>\n",
       "      <td>1080</td>\n",
       "    </tr>\n",
       "    <tr>\n",
       "      <th>3</th>\n",
       "      <td>IPS Panel Retina Display 2880</td>\n",
       "      <td>1800</td>\n",
       "    </tr>\n",
       "    <tr>\n",
       "      <th>4</th>\n",
       "      <td>IPS Panel Retina Display 2560</td>\n",
       "      <td>1600</td>\n",
       "    </tr>\n",
       "    <tr>\n",
       "      <th>...</th>\n",
       "      <td>...</td>\n",
       "      <td>...</td>\n",
       "    </tr>\n",
       "    <tr>\n",
       "      <th>1269</th>\n",
       "      <td>1366</td>\n",
       "      <td>768</td>\n",
       "    </tr>\n",
       "    <tr>\n",
       "      <th>1270</th>\n",
       "      <td>IPS Panel Full HD / Touchscreen 1920</td>\n",
       "      <td>1080</td>\n",
       "    </tr>\n",
       "    <tr>\n",
       "      <th>1271</th>\n",
       "      <td>IPS Panel Quad HD+ / Touchscreen 3200</td>\n",
       "      <td>1800</td>\n",
       "    </tr>\n",
       "    <tr>\n",
       "      <th>1272</th>\n",
       "      <td>1366</td>\n",
       "      <td>768</td>\n",
       "    </tr>\n",
       "    <tr>\n",
       "      <th>1273</th>\n",
       "      <td>1366</td>\n",
       "      <td>768</td>\n",
       "    </tr>\n",
       "  </tbody>\n",
       "</table>\n",
       "<p>1274 rows × 2 columns</p>\n",
       "</div>"
      ],
      "text/plain": [
       "                                          0     1\n",
       "0             IPS Panel Retina Display 2560  1600\n",
       "1                                      1440   900\n",
       "2                              Full HD 1920  1080\n",
       "3             IPS Panel Retina Display 2880  1800\n",
       "4             IPS Panel Retina Display 2560  1600\n",
       "...                                     ...   ...\n",
       "1269                                   1366   768\n",
       "1270   IPS Panel Full HD / Touchscreen 1920  1080\n",
       "1271  IPS Panel Quad HD+ / Touchscreen 3200  1800\n",
       "1272                                   1366   768\n",
       "1273                                   1366   768\n",
       "\n",
       "[1274 rows x 2 columns]"
      ]
     },
     "execution_count": 472,
     "metadata": {},
     "output_type": "execute_result"
    }
   ],
   "source": [
    "temp=df['ScreenResolution'].str.split('x',n=1,expand=True)\n",
    "temp"
   ]
  },
  {
   "cell_type": "code",
   "execution_count": 473,
   "metadata": {},
   "outputs": [],
   "source": [
    "df['X_res']=temp[0].apply(lambda x:x.split()[-1]).astype('int64')\n",
    "df['Y_res']=temp[1].astype('int64')"
   ]
  },
  {
   "cell_type": "code",
   "execution_count": 474,
   "metadata": {},
   "outputs": [
    {
     "data": {
      "text/html": [
       "<div>\n",
       "<style scoped>\n",
       "    .dataframe tbody tr th:only-of-type {\n",
       "        vertical-align: middle;\n",
       "    }\n",
       "\n",
       "    .dataframe tbody tr th {\n",
       "        vertical-align: top;\n",
       "    }\n",
       "\n",
       "    .dataframe thead th {\n",
       "        text-align: right;\n",
       "    }\n",
       "</style>\n",
       "<table border=\"1\" class=\"dataframe\">\n",
       "  <thead>\n",
       "    <tr style=\"text-align: right;\">\n",
       "      <th></th>\n",
       "      <th>Company</th>\n",
       "      <th>TypeName</th>\n",
       "      <th>Inches</th>\n",
       "      <th>ScreenResolution</th>\n",
       "      <th>Cpu</th>\n",
       "      <th>Ram</th>\n",
       "      <th>Memory</th>\n",
       "      <th>Gpu</th>\n",
       "      <th>OpSys</th>\n",
       "      <th>Weight</th>\n",
       "      <th>Price</th>\n",
       "      <th>Touchscreen</th>\n",
       "      <th>isIPS</th>\n",
       "      <th>X_res</th>\n",
       "      <th>Y_res</th>\n",
       "    </tr>\n",
       "  </thead>\n",
       "  <tbody>\n",
       "    <tr>\n",
       "      <th>0</th>\n",
       "      <td>Apple</td>\n",
       "      <td>Ultrabook</td>\n",
       "      <td>13.3</td>\n",
       "      <td>IPS Panel Retina Display 2560x1600</td>\n",
       "      <td>Intel Core i5 2.3GHz</td>\n",
       "      <td>8</td>\n",
       "      <td>128GB SSD</td>\n",
       "      <td>Intel Iris Plus Graphics 640</td>\n",
       "      <td>macOS</td>\n",
       "      <td>1.37</td>\n",
       "      <td>71378.6832</td>\n",
       "      <td>0</td>\n",
       "      <td>1</td>\n",
       "      <td>2560</td>\n",
       "      <td>1600</td>\n",
       "    </tr>\n",
       "    <tr>\n",
       "      <th>1</th>\n",
       "      <td>Apple</td>\n",
       "      <td>Ultrabook</td>\n",
       "      <td>13.3</td>\n",
       "      <td>1440x900</td>\n",
       "      <td>Intel Core i5 1.8GHz</td>\n",
       "      <td>8</td>\n",
       "      <td>128GB Flash Storage</td>\n",
       "      <td>Intel HD Graphics 6000</td>\n",
       "      <td>macOS</td>\n",
       "      <td>1.34</td>\n",
       "      <td>47895.5232</td>\n",
       "      <td>0</td>\n",
       "      <td>0</td>\n",
       "      <td>1440</td>\n",
       "      <td>900</td>\n",
       "    </tr>\n",
       "  </tbody>\n",
       "</table>\n",
       "</div>"
      ],
      "text/plain": [
       "  Company   TypeName  Inches                    ScreenResolution  \\\n",
       "0   Apple  Ultrabook    13.3  IPS Panel Retina Display 2560x1600   \n",
       "1   Apple  Ultrabook    13.3                            1440x900   \n",
       "\n",
       "                    Cpu  Ram               Memory  \\\n",
       "0  Intel Core i5 2.3GHz    8            128GB SSD   \n",
       "1  Intel Core i5 1.8GHz    8  128GB Flash Storage   \n",
       "\n",
       "                            Gpu  OpSys  Weight       Price  Touchscreen  \\\n",
       "0  Intel Iris Plus Graphics 640  macOS    1.37  71378.6832            0   \n",
       "1        Intel HD Graphics 6000  macOS    1.34  47895.5232            0   \n",
       "\n",
       "   isIPS  X_res  Y_res  \n",
       "0      1   2560   1600  \n",
       "1      0   1440    900  "
      ]
     },
     "execution_count": 474,
     "metadata": {},
     "output_type": "execute_result"
    }
   ],
   "source": [
    "df.head(2)"
   ]
  },
  {
   "attachments": {},
   "cell_type": "markdown",
   "metadata": {},
   "source": [
    "### Checking Correlation w.r.t to Price\n"
   ]
  },
  {
   "cell_type": "code",
   "execution_count": 475,
   "metadata": {},
   "outputs": [
    {
     "data": {
      "text/plain": [
       "Inches         0.066990\n",
       "Ram            0.740106\n",
       "Weight         0.212192\n",
       "Price          1.000000\n",
       "Touchscreen    0.188631\n",
       "isIPS          0.250358\n",
       "X_res          0.552074\n",
       "Y_res          0.548111\n",
       "Name: Price, dtype: float64"
      ]
     },
     "execution_count": 475,
     "metadata": {},
     "output_type": "execute_result"
    }
   ],
   "source": [
    "df.corr()['Price']"
   ]
  },
  {
   "attachments": {},
   "cell_type": "markdown",
   "metadata": {},
   "source": [
    "### Observations\n",
    "- #### Inches has a very low or almost no correaltion with Price( target ) [ it is not contributing in the variance of Price]\n",
    "- #### X_res and y_res is nearly having 0.50 correlation with Price"
   ]
  },
  {
   "attachments": {},
   "cell_type": "markdown",
   "metadata": {},
   "source": [
    "### Calculating PPI( PIXELS PER iNCHES )\n"
   ]
  },
  {
   "cell_type": "code",
   "execution_count": 476,
   "metadata": {},
   "outputs": [],
   "source": [
    "df['ppi']=(((df['X_res']**2) + (df['Y_res']**2))**0.5/df['Inches']).astype('float64')"
   ]
  },
  {
   "cell_type": "code",
   "execution_count": 477,
   "metadata": {},
   "outputs": [
    {
     "data": {
      "text/plain": [
       "Inches         0.066990\n",
       "Ram            0.740106\n",
       "Weight         0.212192\n",
       "Price          1.000000\n",
       "Touchscreen    0.188631\n",
       "isIPS          0.250358\n",
       "X_res          0.552074\n",
       "Y_res          0.548111\n",
       "ppi            0.469539\n",
       "Name: Price, dtype: float64"
      ]
     },
     "execution_count": 477,
     "metadata": {},
     "output_type": "execute_result"
    }
   ],
   "source": [
    "df.corr()['Price']"
   ]
  },
  {
   "attachments": {},
   "cell_type": "markdown",
   "metadata": {},
   "source": [
    "- #### ppi is having a descent correlation with Price columns\n",
    "- #### as now X_res,y_res and inches have been to calculate ppi\n",
    "- #### next steps will be to drop these columns"
   ]
  },
  {
   "attachments": {},
   "cell_type": "markdown",
   "metadata": {},
   "source": [
    "### Dropping [ ScreenResolution , X_res , Y_res , Inches] column"
   ]
  },
  {
   "cell_type": "code",
   "execution_count": 478,
   "metadata": {},
   "outputs": [],
   "source": [
    "df.drop(columns=['ScreenResolution','X_res','Y_res','Inches'],inplace=True,axis=1)"
   ]
  },
  {
   "cell_type": "code",
   "execution_count": 479,
   "metadata": {},
   "outputs": [
    {
     "name": "stdout",
     "output_type": "stream",
     "text": [
      "Intel Core i5 7200U 2.5GHz   ------------   190           -------------          [ 14.91365777080063 % ]\n",
      "Intel Core i7 7700HQ 2.8GHz   ------------   146           -------------          [ 11.459968602825747 % ]\n",
      "Intel Core i7 7500U 2.7GHz   ------------   132           -------------          [ 10.361067503924646 % ]\n",
      "Intel Core i7 8550U 1.8GHz   ------------   73           -------------          [ 5.729984301412873 % ]\n",
      "Intel Core i5 8250U 1.6GHz   ------------   72           -------------          [ 5.651491365777081 % ]\n",
      "Intel Core i5 6200U 2.3GHz   ------------   68           -------------          [ 5.337519623233909 % ]\n",
      "Intel Core i3 6006U 2GHz   ------------   64           -------------          [ 5.023547880690738 % ]\n",
      "Intel Core i7 6500U 2.5GHz   ------------   41           -------------          [ 3.2182103610675044 % ]\n",
      "Intel Core i7 6500U 2.5GHz   ------------   41           -------------          [ 3.2182103610675044 % ]\n",
      "Intel Core i3 7100U 2.4GHz   ------------   35           -------------          [ 2.7472527472527473 % ]\n",
      "Intel Core i5 7300HQ 2.5GHz   ------------   33           -------------          [ 2.5902668759811616 % ]\n",
      "Intel Celeron Dual Core N3350 1.1GHz   ------------   30           -------------          [ 2.3547880690737837 % ]\n",
      "Intel Celeron Dual Core N3060 1.6GHz   ------------   24           -------------          [ 1.8838304552590266 % ]\n",
      "Intel Core i7 6600U 2.6GHz   ------------   18           -------------          [ 1.4128728414442702 % ]\n",
      "Intel Core i3 6006U 2.0GHz   ------------   16           -------------          [ 1.2558869701726845 % ]\n",
      "Intel Core i5 7300U 2.6GHz   ------------   14           -------------          [ 1.098901098901099 % ]\n",
      "Intel Core i5 7300U 2.6GHz   ------------   14           -------------          [ 1.098901098901099 % ]\n",
      "Intel Core i7 7600U 2.8GHz   ------------   13           -------------          [ 1.0204081632653061 % ]\n",
      "Intel Pentium Quad Core N3710 1.6GHz   ------------   11           -------------          [ 0.8634222919937204 % ]\n",
      "Intel Pentium Quad Core N3710 1.6GHz   ------------   11           -------------          [ 0.8634222919937204 % ]\n",
      "Intel Pentium Quad Core N3710 1.6GHz   ------------   11           -------------          [ 0.8634222919937204 % ]\n",
      "Intel Core i7 6820HK 2.7GHz   ------------   10           -------------          [ 0.7849293563579277 % ]\n",
      "Intel Core i3 6100U 2.3GHz   ------------   9           -------------          [ 0.7064364207221351 % ]\n",
      "Intel Core i3 7130U 2.7GHz   ------------   8           -------------          [ 0.6279434850863422 % ]\n",
      "Intel Core i7 7820HK 2.9GHz   ------------   7           -------------          [ 0.5494505494505495 % ]\n",
      "Intel Core i7 7820HK 2.9GHz   ------------   7           -------------          [ 0.5494505494505495 % ]\n",
      "Intel Core i7 7820HK 2.9GHz   ------------   7           -------------          [ 0.5494505494505495 % ]\n",
      "Intel Core i7 7820HK 2.9GHz   ------------   7           -------------          [ 0.5494505494505495 % ]\n",
      "Intel Core i7 7820HQ 2.9GHz   ------------   5           -------------          [ 0.39246467817896385 % ]\n",
      "Intel Core i7 7820HQ 2.9GHz   ------------   5           -------------          [ 0.39246467817896385 % ]\n",
      "Intel Core i7 7820HQ 2.9GHz   ------------   5           -------------          [ 0.39246467817896385 % ]\n",
      "Intel Core i7 7820HQ 2.9GHz   ------------   5           -------------          [ 0.39246467817896385 % ]\n",
      "Intel Core i7 7820HQ 2.9GHz   ------------   5           -------------          [ 0.39246467817896385 % ]\n",
      "Intel Core i7 7820HQ 2.9GHz   ------------   5           -------------          [ 0.39246467817896385 % ]\n",
      "Intel Core i7 7820HQ 2.9GHz   ------------   5           -------------          [ 0.39246467817896385 % ]\n",
      "Intel Atom x5-Z8550 1.44GHz   ------------   4           -------------          [ 0.3139717425431711 % ]\n",
      "Intel Atom x5-Z8550 1.44GHz   ------------   4           -------------          [ 0.3139717425431711 % ]\n",
      "Intel Atom x5-Z8550 1.44GHz   ------------   4           -------------          [ 0.3139717425431711 % ]\n",
      "Intel Atom x5-Z8550 1.44GHz   ------------   4           -------------          [ 0.3139717425431711 % ]\n",
      "Intel Core i5 7Y54 1.2GHz   ------------   3           -------------          [ 0.23547880690737832 % ]\n",
      "Intel Core i5 7Y54 1.2GHz   ------------   3           -------------          [ 0.23547880690737832 % ]\n",
      "Intel Core i5 7Y54 1.2GHz   ------------   3           -------------          [ 0.23547880690737832 % ]\n",
      "Intel Core i5 7Y54 1.2GHz   ------------   3           -------------          [ 0.23547880690737832 % ]\n",
      "Intel Core i5 7Y54 1.2GHz   ------------   3           -------------          [ 0.23547880690737832 % ]\n",
      "Intel Core i5 7Y57 1.2GHz   ------------   2           -------------          [ 0.15698587127158556 % ]\n",
      "Intel Core i5 7Y57 1.2GHz   ------------   2           -------------          [ 0.15698587127158556 % ]\n",
      "Intel Core i5 7Y57 1.2GHz   ------------   2           -------------          [ 0.15698587127158556 % ]\n",
      "Intel Core i5 7Y57 1.2GHz   ------------   2           -------------          [ 0.15698587127158556 % ]\n",
      "Intel Core i5 7Y57 1.2GHz   ------------   2           -------------          [ 0.15698587127158556 % ]\n",
      "Intel Core i5 7Y57 1.2GHz   ------------   2           -------------          [ 0.15698587127158556 % ]\n",
      "Intel Core i5 7Y57 1.2GHz   ------------   2           -------------          [ 0.15698587127158556 % ]\n",
      "Intel Core i5 7Y57 1.2GHz   ------------   2           -------------          [ 0.15698587127158556 % ]\n",
      "Intel Core i5 7Y57 1.2GHz   ------------   2           -------------          [ 0.15698587127158556 % ]\n",
      "Intel Core i5 7Y57 1.2GHz   ------------   2           -------------          [ 0.15698587127158556 % ]\n",
      "Intel Core i5 7Y57 1.2GHz   ------------   2           -------------          [ 0.15698587127158556 % ]\n",
      "Intel Core i5 7Y57 1.2GHz   ------------   2           -------------          [ 0.15698587127158556 % ]\n",
      "Intel Core i5 7Y57 1.2GHz   ------------   2           -------------          [ 0.15698587127158556 % ]\n",
      "Intel Core i5 7Y57 1.2GHz   ------------   2           -------------          [ 0.15698587127158556 % ]\n",
      "Intel Core i5 7Y57 1.2GHz   ------------   2           -------------          [ 0.15698587127158556 % ]\n",
      "Intel Core i5 7Y57 1.2GHz   ------------   2           -------------          [ 0.15698587127158556 % ]\n",
      "Intel Core i5 7Y57 1.2GHz   ------------   2           -------------          [ 0.15698587127158556 % ]\n",
      "Intel Core i5 7Y57 1.2GHz   ------------   2           -------------          [ 0.15698587127158556 % ]\n",
      "Intel Core i5 7Y57 1.2GHz   ------------   2           -------------          [ 0.15698587127158556 % ]\n",
      "Intel Core i5 7Y57 1.2GHz   ------------   2           -------------          [ 0.15698587127158556 % ]\n",
      "Intel Core i5 7Y57 1.2GHz   ------------   2           -------------          [ 0.15698587127158556 % ]\n",
      "Intel Core i5 7Y57 1.2GHz   ------------   2           -------------          [ 0.15698587127158556 % ]\n",
      "AMD E-Series 9000e 1.5GHz   ------------   1           -------------          [ 0.07849293563579278 % ]\n",
      "AMD E-Series 9000e 1.5GHz   ------------   1           -------------          [ 0.07849293563579278 % ]\n",
      "AMD E-Series 9000e 1.5GHz   ------------   1           -------------          [ 0.07849293563579278 % ]\n",
      "AMD E-Series 9000e 1.5GHz   ------------   1           -------------          [ 0.07849293563579278 % ]\n",
      "AMD E-Series 9000e 1.5GHz   ------------   1           -------------          [ 0.07849293563579278 % ]\n",
      "AMD E-Series 9000e 1.5GHz   ------------   1           -------------          [ 0.07849293563579278 % ]\n",
      "AMD E-Series 9000e 1.5GHz   ------------   1           -------------          [ 0.07849293563579278 % ]\n",
      "AMD E-Series 9000e 1.5GHz   ------------   1           -------------          [ 0.07849293563579278 % ]\n",
      "AMD E-Series 9000e 1.5GHz   ------------   1           -------------          [ 0.07849293563579278 % ]\n",
      "AMD E-Series 9000e 1.5GHz   ------------   1           -------------          [ 0.07849293563579278 % ]\n",
      "AMD E-Series 9000e 1.5GHz   ------------   1           -------------          [ 0.07849293563579278 % ]\n",
      "AMD E-Series 9000e 1.5GHz   ------------   1           -------------          [ 0.07849293563579278 % ]\n",
      "AMD E-Series 9000e 1.5GHz   ------------   1           -------------          [ 0.07849293563579278 % ]\n",
      "AMD E-Series 9000e 1.5GHz   ------------   1           -------------          [ 0.07849293563579278 % ]\n",
      "AMD E-Series 9000e 1.5GHz   ------------   1           -------------          [ 0.07849293563579278 % ]\n",
      "AMD E-Series 9000e 1.5GHz   ------------   1           -------------          [ 0.07849293563579278 % ]\n",
      "AMD E-Series 9000e 1.5GHz   ------------   1           -------------          [ 0.07849293563579278 % ]\n",
      "AMD E-Series 9000e 1.5GHz   ------------   1           -------------          [ 0.07849293563579278 % ]\n",
      "AMD E-Series 9000e 1.5GHz   ------------   1           -------------          [ 0.07849293563579278 % ]\n",
      "AMD E-Series 9000e 1.5GHz   ------------   1           -------------          [ 0.07849293563579278 % ]\n",
      "AMD E-Series 9000e 1.5GHz   ------------   1           -------------          [ 0.07849293563579278 % ]\n",
      "AMD E-Series 9000e 1.5GHz   ------------   1           -------------          [ 0.07849293563579278 % ]\n",
      "AMD E-Series 9000e 1.5GHz   ------------   1           -------------          [ 0.07849293563579278 % ]\n",
      "AMD E-Series 9000e 1.5GHz   ------------   1           -------------          [ 0.07849293563579278 % ]\n",
      "AMD E-Series 9000e 1.5GHz   ------------   1           -------------          [ 0.07849293563579278 % ]\n",
      "AMD E-Series 9000e 1.5GHz   ------------   1           -------------          [ 0.07849293563579278 % ]\n",
      "AMD E-Series 9000e 1.5GHz   ------------   1           -------------          [ 0.07849293563579278 % ]\n",
      "AMD E-Series 9000e 1.5GHz   ------------   1           -------------          [ 0.07849293563579278 % ]\n",
      "AMD E-Series 9000e 1.5GHz   ------------   1           -------------          [ 0.07849293563579278 % ]\n",
      "AMD E-Series 9000e 1.5GHz   ------------   1           -------------          [ 0.07849293563579278 % ]\n",
      "AMD E-Series 9000e 1.5GHz   ------------   1           -------------          [ 0.07849293563579278 % ]\n",
      "AMD E-Series 9000e 1.5GHz   ------------   1           -------------          [ 0.07849293563579278 % ]\n",
      "AMD E-Series 9000e 1.5GHz   ------------   1           -------------          [ 0.07849293563579278 % ]\n",
      "AMD E-Series 9000e 1.5GHz   ------------   1           -------------          [ 0.07849293563579278 % ]\n",
      "AMD E-Series 9000e 1.5GHz   ------------   1           -------------          [ 0.07849293563579278 % ]\n",
      "AMD E-Series 9000e 1.5GHz   ------------   1           -------------          [ 0.07849293563579278 % ]\n",
      "AMD E-Series 9000e 1.5GHz   ------------   1           -------------          [ 0.07849293563579278 % ]\n",
      "AMD E-Series 9000e 1.5GHz   ------------   1           -------------          [ 0.07849293563579278 % ]\n",
      "AMD E-Series 9000e 1.5GHz   ------------   1           -------------          [ 0.07849293563579278 % ]\n",
      "AMD E-Series 9000e 1.5GHz   ------------   1           -------------          [ 0.07849293563579278 % ]\n",
      "AMD E-Series 9000e 1.5GHz   ------------   1           -------------          [ 0.07849293563579278 % ]\n",
      "AMD E-Series 9000e 1.5GHz   ------------   1           -------------          [ 0.07849293563579278 % ]\n",
      "AMD E-Series 9000e 1.5GHz   ------------   1           -------------          [ 0.07849293563579278 % ]\n",
      "AMD E-Series 9000e 1.5GHz   ------------   1           -------------          [ 0.07849293563579278 % ]\n",
      "AMD E-Series 9000e 1.5GHz   ------------   1           -------------          [ 0.07849293563579278 % ]\n",
      "AMD E-Series 9000e 1.5GHz   ------------   1           -------------          [ 0.07849293563579278 % ]\n",
      "AMD E-Series 9000e 1.5GHz   ------------   1           -------------          [ 0.07849293563579278 % ]\n",
      "AMD E-Series 9000e 1.5GHz   ------------   1           -------------          [ 0.07849293563579278 % ]\n",
      "AMD E-Series 9000e 1.5GHz   ------------   1           -------------          [ 0.07849293563579278 % ]\n",
      "AMD E-Series 9000e 1.5GHz   ------------   1           -------------          [ 0.07849293563579278 % ]\n",
      "AMD E-Series 9000e 1.5GHz   ------------   1           -------------          [ 0.07849293563579278 % ]\n",
      "AMD E-Series 9000e 1.5GHz   ------------   1           -------------          [ 0.07849293563579278 % ]\n",
      "Unique Number of Catagories are : 118\n"
     ]
    }
   ],
   "source": [
    "k=df['Cpu'].value_counts()\n",
    "\n",
    "for i in k:\n",
    "    print(f'{k[k==i].index[0]}   ------------   {i}           -------------          [ {i/len(df)*100} % ]')\n",
    "print(f\"Unique Number of Catagories are : {len(k)}\")"
   ]
  },
  {
   "attachments": {},
   "cell_type": "markdown",
   "metadata": {},
   "source": [
    "- #### Cpu column is having the highest Cardinality [ it has 118 unique catagories of processors]\n",
    "- #### with many categories having ratio below 0.08 which is very less \n",
    "- #### we will be selecting only the 5 catagories of processors"
   ]
  },
  {
   "attachments": {},
   "cell_type": "markdown",
   "metadata": {},
   "source": [
    "### Fetching only the first 3 words from Processors list"
   ]
  },
  {
   "cell_type": "code",
   "execution_count": 480,
   "metadata": {},
   "outputs": [],
   "source": [
    "df['cpu_brand']=df['Cpu'].apply(lambda x: ' '.join(x.split()[:3]))"
   ]
  },
  {
   "cell_type": "code",
   "execution_count": 481,
   "metadata": {},
   "outputs": [
    {
     "name": "stdout",
     "output_type": "stream",
     "text": [
      "Intel Core i5\n",
      "Intel Core i5\n",
      "Intel Core i5\n",
      "Intel Core i7\n",
      "Intel Core i5\n",
      "AMD A9-Series 9420\n",
      "Intel Core i7\n",
      "Intel Core i5\n",
      "Intel Core i7\n",
      "Intel Core i5\n",
      "Intel Core i5\n",
      "Intel Core i3\n",
      "Intel Core i7\n",
      "Intel Core i3\n",
      "Intel Core M\n"
     ]
    }
   ],
   "source": [
    "for i in df['cpu_brand'][:15]:\n",
    "    print(i)\n",
    "\n",
    "# fucnction to fetch 5 different types of processors\n",
    "def fetch_processor(value):\n",
    "    if value=='Intel Core i3' or value=='Intel Core i7' or value=='Intel Core i5':\n",
    "        return value\n",
    "    else:\n",
    "        if value.split()[0]=='Intel':\n",
    "            return 'Other Intel Processor'\n",
    "        else:\n",
    "            return 'AMD Processor'"
   ]
  },
  {
   "cell_type": "code",
   "execution_count": 482,
   "metadata": {},
   "outputs": [
    {
     "data": {
      "text/plain": [
       "0               Intel Core i5\n",
       "1               Intel Core i5\n",
       "2               Intel Core i5\n",
       "3               Intel Core i7\n",
       "4               Intel Core i5\n",
       "                ...          \n",
       "1269            Intel Core i7\n",
       "1270            Intel Core i7\n",
       "1271            Intel Core i7\n",
       "1272    Other Intel Processor\n",
       "1273            Intel Core i7\n",
       "Name: cpu_brand, Length: 1274, dtype: object"
      ]
     },
     "execution_count": 482,
     "metadata": {},
     "output_type": "execute_result"
    }
   ],
   "source": [
    "df['cpu_brand']=df['cpu_brand'].apply(fetch_processor)\n",
    "df['cpu_brand']"
   ]
  },
  {
   "attachments": {},
   "cell_type": "markdown",
   "metadata": {},
   "source": [
    "#### Univariate analysis ( cpu_brand )"
   ]
  },
  {
   "cell_type": "code",
   "execution_count": 483,
   "metadata": {},
   "outputs": [
    {
     "data": {
      "text/plain": [
       "Intel Core i7            40.423862\n",
       "Intel Core i5            33.202512\n",
       "Other Intel Processor    11.067504\n",
       "Intel Core i3            10.518053\n",
       "AMD Processor             4.788069\n",
       "Name: cpu_brand, dtype: float64"
      ]
     },
     "execution_count": 483,
     "metadata": {},
     "output_type": "execute_result"
    }
   ],
   "source": [
    "df['cpu_brand'].value_counts()/len(df)*100"
   ]
  },
  {
   "cell_type": "code",
   "execution_count": 484,
   "metadata": {},
   "outputs": [
    {
     "data": {
      "image/png": "[encoded data removed]",
      "text/plain": [
       "<Figure size 640x480 with 1 Axes>"
      ]
     },
     "metadata": {},
     "output_type": "display_data"
    }
   ],
   "source": [
    "df['cpu_brand'].value_counts().plot.bar()\n",
    "plt.title(\"Number of Instances of each processor\")\n",
    "plt.show()"
   ]
  },
  {
   "attachments": {},
   "cell_type": "markdown",
   "metadata": {},
   "source": [
    "- ### Selling Rates\n",
    "- #### intel core i7 : 40.42%\n",
    "- #### intel core i5 : 33.20%\n",
    "- #### intel core i3 : 10%\n",
    "- #### Other Intel Processor : 11.06%\n",
    "- #### amd processor : 4.7%\n",
    "\n",
    "- #### Intel core i7 has the highest selling rate and it is dominating the category "
   ]
  },
  {
   "attachments": {},
   "cell_type": "markdown",
   "metadata": {},
   "source": [
    "### Bivariate Analysis ( cpu_brand  - Price )"
   ]
  },
  {
   "cell_type": "code",
   "execution_count": 485,
   "metadata": {},
   "outputs": [
    {
     "data": {
      "image/png": "[encoded data removed]",
      "text/plain": [
       "<Figure size 640x480 with 1 Axes>"
      ]
     },
     "metadata": {},
     "output_type": "display_data"
    }
   ],
   "source": [
    "df.groupby('cpu_brand')['Price'].mean().sort_values().plot.bar()\n",
    "plt.show()"
   ]
  },
  {
   "attachments": {},
   "cell_type": "markdown",
   "metadata": {},
   "source": [
    "- #### Laptops with INTEL CORE i7 goes above an average of 80k but it still holds the highest selling rate \n",
    "- #### this tells us that customers are not likely to compromise with the Processor/Cpu or performance of the laptop even if it is having a higher price"
   ]
  },
  {
   "attachments": {},
   "cell_type": "markdown",
   "metadata": {},
   "source": [
    "### Dropping the Cpu column"
   ]
  },
  {
   "cell_type": "code",
   "execution_count": 486,
   "metadata": {},
   "outputs": [],
   "source": [
    "df.drop(columns='Cpu',inplace=True)"
   ]
  },
  {
   "attachments": {},
   "cell_type": "markdown",
   "metadata": {},
   "source": [
    "### Univariate Analysis ( Ram )"
   ]
  },
  {
   "cell_type": "code",
   "execution_count": 487,
   "metadata": {},
   "outputs": [
    {
     "data": {
      "text/plain": [
       "8     48.116170\n",
       "4     28.728414\n",
       "16    15.541601\n",
       "6      2.747253\n",
       "12     1.962323\n",
       "32     1.334380\n",
       "2      1.255887\n",
       "24     0.235479\n",
       "64     0.078493\n",
       "Name: Ram, dtype: float64"
      ]
     },
     "execution_count": 487,
     "metadata": {},
     "output_type": "execute_result"
    }
   ],
   "source": [
    "df['Ram'].value_counts()/len(df)*100"
   ]
  },
  {
   "cell_type": "code",
   "execution_count": 488,
   "metadata": {},
   "outputs": [
    {
     "data": {
      "image/png": "[encoded data removed]",
      "text/plain": [
       "<Figure size 640x480 with 1 Axes>"
      ]
     },
     "metadata": {},
     "output_type": "display_data"
    }
   ],
   "source": [
    "df['Ram'].value_counts().plot.bar()\n",
    "plt.show()"
   ]
  },
  {
   "attachments": {},
   "cell_type": "markdown",
   "metadata": {},
   "source": [
    "- #### 8gb ram has the highest selling rate 48.11%"
   ]
  },
  {
   "attachments": {},
   "cell_type": "markdown",
   "metadata": {},
   "source": [
    "### Bivariate Analysis ( Ram - Price )"
   ]
  },
  {
   "cell_type": "code",
   "execution_count": 489,
   "metadata": {},
   "outputs": [
    {
     "data": {
      "image/png": "[encoded data removed]",
      "text/plain": [
       "<Figure size 640x480 with 1 Axes>"
      ]
     },
     "metadata": {},
     "output_type": "display_data"
    }
   ],
   "source": [
    "df.groupby('Ram')['Price'].mean().sort_values().plot.bar()\n",
    "plt.show()"
   ]
  },
  {
   "attachments": {},
   "cell_type": "markdown",
   "metadata": {},
   "source": [
    "- #### this plot verifies why 8 gb ram has the highest selling rate\n",
    "- #### as laptops equipped with 8gb ram falls in the range between (50k - 75k) which is considered to be a sweet budget spot for many customers\n",
    "- #### also it shows a very strong linearity with Price column ...that is why it is having a much higher correlation coefficient with price"
   ]
  },
  {
   "cell_type": "code",
   "execution_count": 490,
   "metadata": {},
   "outputs": [
    {
     "data": {
      "text/plain": [
       "256GB SSD                        412\n",
       "1TB HDD                          215\n",
       "500GB HDD                        123\n",
       "512GB SSD                        114\n",
       "128GB SSD +  1TB HDD              94\n",
       "128GB SSD                         74\n",
       "256GB SSD +  1TB HDD              73\n",
       "32GB Flash Storage                36\n",
       "2TB HDD                           16\n",
       "512GB SSD +  1TB HDD              14\n",
       "1TB SSD                           14\n",
       "64GB Flash Storage                13\n",
       "256GB SSD +  2TB HDD              10\n",
       "256GB Flash Storage                8\n",
       "16GB Flash Storage                 7\n",
       "1.0TB Hybrid                       7\n",
       "32GB SSD                           6\n",
       "180GB SSD                          5\n",
       "128GB Flash Storage                4\n",
       "512GB SSD +  2TB HDD               3\n",
       "16GB SSD                           3\n",
       "512GB Flash Storage                2\n",
       "1TB SSD +  1TB HDD                 2\n",
       "256GB SSD +  500GB HDD             2\n",
       "128GB SSD +  2TB HDD               2\n",
       "256GB SSD +  256GB SSD             2\n",
       "512GB SSD +  256GB SSD             1\n",
       "512GB SSD +  512GB SSD             1\n",
       "64GB Flash Storage +  1TB HDD      1\n",
       "1TB HDD +  1TB HDD                 1\n",
       "32GB HDD                           1\n",
       "64GB SSD                           1\n",
       "128GB HDD                          1\n",
       "240GB SSD                          1\n",
       "8GB SSD                            1\n",
       "508GB Hybrid                       1\n",
       "1.0TB HDD                          1\n",
       "512GB SSD +  1.0TB Hybrid          1\n",
       "256GB SSD +  1.0TB Hybrid          1\n",
       "Name: Memory, dtype: int64"
      ]
     },
     "execution_count": 490,
     "metadata": {},
     "output_type": "execute_result"
    }
   ],
   "source": [
    "df['Memory'].value_counts()"
   ]
  },
  {
   "attachments": {},
   "cell_type": "markdown",
   "metadata": {},
   "source": [
    "- #### this column contains information about\n",
    "- SSD\n",
    "- HDD\n",
    "- HYBRID\n",
    "- FLASH STORAGE"
   ]
  },
  {
   "cell_type": "code",
   "execution_count": 491,
   "metadata": {},
   "outputs": [
    {
     "data": {
      "text/html": [
       "<div>\n",
       "<style scoped>\n",
       "    .dataframe tbody tr th:only-of-type {\n",
       "        vertical-align: middle;\n",
       "    }\n",
       "\n",
       "    .dataframe tbody tr th {\n",
       "        vertical-align: top;\n",
       "    }\n",
       "\n",
       "    .dataframe thead th {\n",
       "        text-align: right;\n",
       "    }\n",
       "</style>\n",
       "<table border=\"1\" class=\"dataframe\">\n",
       "  <thead>\n",
       "    <tr style=\"text-align: right;\">\n",
       "      <th></th>\n",
       "      <th>Company</th>\n",
       "      <th>TypeName</th>\n",
       "      <th>Ram</th>\n",
       "      <th>Memory</th>\n",
       "      <th>Gpu</th>\n",
       "      <th>OpSys</th>\n",
       "      <th>Weight</th>\n",
       "      <th>Price</th>\n",
       "      <th>Touchscreen</th>\n",
       "      <th>isIPS</th>\n",
       "      <th>ppi</th>\n",
       "      <th>cpu_brand</th>\n",
       "    </tr>\n",
       "  </thead>\n",
       "  <tbody>\n",
       "    <tr>\n",
       "      <th>37</th>\n",
       "      <td>Dell</td>\n",
       "      <td>Notebook</td>\n",
       "      <td>8</td>\n",
       "      <td>128GB SSD +  1TB HDD</td>\n",
       "      <td>AMD Radeon 530</td>\n",
       "      <td>Windows 10</td>\n",
       "      <td>2.80</td>\n",
       "      <td>52161.1200</td>\n",
       "      <td>0</td>\n",
       "      <td>1</td>\n",
       "      <td>127.335675</td>\n",
       "      <td>Intel Core i5</td>\n",
       "    </tr>\n",
       "    <tr>\n",
       "      <th>38</th>\n",
       "      <td>HP</td>\n",
       "      <td>Notebook</td>\n",
       "      <td>4</td>\n",
       "      <td>1TB HDD</td>\n",
       "      <td>Intel HD Graphics 620</td>\n",
       "      <td>Windows 10</td>\n",
       "      <td>1.86</td>\n",
       "      <td>26037.4032</td>\n",
       "      <td>0</td>\n",
       "      <td>0</td>\n",
       "      <td>100.454670</td>\n",
       "      <td>Intel Core i5</td>\n",
       "    </tr>\n",
       "    <tr>\n",
       "      <th>39</th>\n",
       "      <td>HP</td>\n",
       "      <td>Notebook</td>\n",
       "      <td>8</td>\n",
       "      <td>256GB SSD</td>\n",
       "      <td>Nvidia GeForce 930MX</td>\n",
       "      <td>Windows 10</td>\n",
       "      <td>2.10</td>\n",
       "      <td>46833.1200</td>\n",
       "      <td>0</td>\n",
       "      <td>0</td>\n",
       "      <td>141.211998</td>\n",
       "      <td>Intel Core i5</td>\n",
       "    </tr>\n",
       "    <tr>\n",
       "      <th>40</th>\n",
       "      <td>Asus</td>\n",
       "      <td>Notebook</td>\n",
       "      <td>4</td>\n",
       "      <td>1TB HDD</td>\n",
       "      <td>Intel HD Graphics 620</td>\n",
       "      <td>Linux</td>\n",
       "      <td>2.00</td>\n",
       "      <td>20725.9200</td>\n",
       "      <td>0</td>\n",
       "      <td>0</td>\n",
       "      <td>141.211998</td>\n",
       "      <td>Intel Core i3</td>\n",
       "    </tr>\n",
       "    <tr>\n",
       "      <th>41</th>\n",
       "      <td>Dell</td>\n",
       "      <td>Gaming</td>\n",
       "      <td>16</td>\n",
       "      <td>256GB SSD +  1TB HDD</td>\n",
       "      <td>Nvidia GeForce GTX 1060</td>\n",
       "      <td>Windows 10</td>\n",
       "      <td>2.65</td>\n",
       "      <td>79866.7200</td>\n",
       "      <td>0</td>\n",
       "      <td>1</td>\n",
       "      <td>141.211998</td>\n",
       "      <td>Intel Core i7</td>\n",
       "    </tr>\n",
       "    <tr>\n",
       "      <th>42</th>\n",
       "      <td>Asus</td>\n",
       "      <td>Notebook</td>\n",
       "      <td>8</td>\n",
       "      <td>1TB HDD</td>\n",
       "      <td>Nvidia GeForce 940MX</td>\n",
       "      <td>Linux</td>\n",
       "      <td>2.30</td>\n",
       "      <td>27864.9072</td>\n",
       "      <td>0</td>\n",
       "      <td>0</td>\n",
       "      <td>100.454670</td>\n",
       "      <td>Intel Core i5</td>\n",
       "    </tr>\n",
       "    <tr>\n",
       "      <th>43</th>\n",
       "      <td>Acer</td>\n",
       "      <td>Notebook</td>\n",
       "      <td>4</td>\n",
       "      <td>256GB SSD</td>\n",
       "      <td>Intel UHD Graphics 620</td>\n",
       "      <td>Windows 10</td>\n",
       "      <td>2.20</td>\n",
       "      <td>36336.9600</td>\n",
       "      <td>0</td>\n",
       "      <td>1</td>\n",
       "      <td>141.211998</td>\n",
       "      <td>Intel Core i5</td>\n",
       "    </tr>\n",
       "    <tr>\n",
       "      <th>44</th>\n",
       "      <td>Dell</td>\n",
       "      <td>2 in 1 Convertible</td>\n",
       "      <td>12</td>\n",
       "      <td>1TB HDD</td>\n",
       "      <td>Nvidia GeForce 150MX</td>\n",
       "      <td>Windows 10</td>\n",
       "      <td>2.77</td>\n",
       "      <td>53226.7200</td>\n",
       "      <td>1</td>\n",
       "      <td>0</td>\n",
       "      <td>127.335675</td>\n",
       "      <td>Intel Core i5</td>\n",
       "    </tr>\n",
       "    <tr>\n",
       "      <th>45</th>\n",
       "      <td>Apple</td>\n",
       "      <td>Ultrabook</td>\n",
       "      <td>8</td>\n",
       "      <td>256GB SSD</td>\n",
       "      <td>Intel Iris Graphics 540</td>\n",
       "      <td>macOS</td>\n",
       "      <td>1.37</td>\n",
       "      <td>75604.3200</td>\n",
       "      <td>0</td>\n",
       "      <td>1</td>\n",
       "      <td>226.983005</td>\n",
       "      <td>Intel Core i5</td>\n",
       "    </tr>\n",
       "    <tr>\n",
       "      <th>46</th>\n",
       "      <td>Lenovo</td>\n",
       "      <td>Notebook</td>\n",
       "      <td>4</td>\n",
       "      <td>128GB SSD</td>\n",
       "      <td>Intel HD Graphics 520</td>\n",
       "      <td>No OS</td>\n",
       "      <td>2.20</td>\n",
       "      <td>19660.3200</td>\n",
       "      <td>0</td>\n",
       "      <td>0</td>\n",
       "      <td>100.454670</td>\n",
       "      <td>Intel Core i3</td>\n",
       "    </tr>\n",
       "    <tr>\n",
       "      <th>47</th>\n",
       "      <td>Asus</td>\n",
       "      <td>Gaming</td>\n",
       "      <td>8</td>\n",
       "      <td>256GB SSD +  1TB HDD</td>\n",
       "      <td>AMD Radeon RX 580</td>\n",
       "      <td>Windows 10</td>\n",
       "      <td>3.20</td>\n",
       "      <td>69210.7200</td>\n",
       "      <td>0</td>\n",
       "      <td>0</td>\n",
       "      <td>127.335675</td>\n",
       "      <td>AMD Processor</td>\n",
       "    </tr>\n",
       "    <tr>\n",
       "      <th>48</th>\n",
       "      <td>Dell</td>\n",
       "      <td>Notebook</td>\n",
       "      <td>4</td>\n",
       "      <td>256GB SSD</td>\n",
       "      <td>AMD Radeon R5 M430</td>\n",
       "      <td>Windows 10</td>\n",
       "      <td>2.30</td>\n",
       "      <td>34045.9200</td>\n",
       "      <td>0</td>\n",
       "      <td>0</td>\n",
       "      <td>141.211998</td>\n",
       "      <td>Intel Core i5</td>\n",
       "    </tr>\n",
       "    <tr>\n",
       "      <th>49</th>\n",
       "      <td>Asus</td>\n",
       "      <td>Notebook</td>\n",
       "      <td>4</td>\n",
       "      <td>1TB HDD</td>\n",
       "      <td>Nvidia GeForce 920MX</td>\n",
       "      <td>Windows 10</td>\n",
       "      <td>2.80</td>\n",
       "      <td>24828.4800</td>\n",
       "      <td>0</td>\n",
       "      <td>0</td>\n",
       "      <td>90.583402</td>\n",
       "      <td>Other Intel Processor</td>\n",
       "    </tr>\n",
       "  </tbody>\n",
       "</table>\n",
       "</div>"
      ],
      "text/plain": [
       "   Company            TypeName  Ram                Memory  \\\n",
       "37    Dell            Notebook    8  128GB SSD +  1TB HDD   \n",
       "38      HP            Notebook    4               1TB HDD   \n",
       "39      HP            Notebook    8             256GB SSD   \n",
       "40    Asus            Notebook    4               1TB HDD   \n",
       "41    Dell              Gaming   16  256GB SSD +  1TB HDD   \n",
       "42    Asus            Notebook    8               1TB HDD   \n",
       "43    Acer            Notebook    4             256GB SSD   \n",
       "44    Dell  2 in 1 Convertible   12               1TB HDD   \n",
       "45   Apple           Ultrabook    8             256GB SSD   \n",
       "46  Lenovo            Notebook    4             128GB SSD   \n",
       "47    Asus              Gaming    8  256GB SSD +  1TB HDD   \n",
       "48    Dell            Notebook    4             256GB SSD   \n",
       "49    Asus            Notebook    4               1TB HDD   \n",
       "\n",
       "                        Gpu       OpSys  Weight       Price  Touchscreen  \\\n",
       "37           AMD Radeon 530  Windows 10    2.80  52161.1200            0   \n",
       "38    Intel HD Graphics 620  Windows 10    1.86  26037.4032            0   \n",
       "39    Nvidia GeForce 930MX   Windows 10    2.10  46833.1200            0   \n",
       "40    Intel HD Graphics 620       Linux    2.00  20725.9200            0   \n",
       "41  Nvidia GeForce GTX 1060  Windows 10    2.65  79866.7200            0   \n",
       "42     Nvidia GeForce 940MX       Linux    2.30  27864.9072            0   \n",
       "43   Intel UHD Graphics 620  Windows 10    2.20  36336.9600            0   \n",
       "44     Nvidia GeForce 150MX  Windows 10    2.77  53226.7200            1   \n",
       "45  Intel Iris Graphics 540       macOS    1.37  75604.3200            0   \n",
       "46    Intel HD Graphics 520       No OS    2.20  19660.3200            0   \n",
       "47        AMD Radeon RX 580  Windows 10    3.20  69210.7200            0   \n",
       "48       AMD Radeon R5 M430  Windows 10    2.30  34045.9200            0   \n",
       "49     Nvidia GeForce 920MX  Windows 10    2.80  24828.4800            0   \n",
       "\n",
       "    isIPS         ppi              cpu_brand  \n",
       "37      1  127.335675          Intel Core i5  \n",
       "38      0  100.454670          Intel Core i5  \n",
       "39      0  141.211998          Intel Core i5  \n",
       "40      0  141.211998          Intel Core i3  \n",
       "41      1  141.211998          Intel Core i7  \n",
       "42      0  100.454670          Intel Core i5  \n",
       "43      1  141.211998          Intel Core i5  \n",
       "44      0  127.335675          Intel Core i5  \n",
       "45      1  226.983005          Intel Core i5  \n",
       "46      0  100.454670          Intel Core i3  \n",
       "47      0  127.335675          AMD Processor  \n",
       "48      0  141.211998          Intel Core i5  \n",
       "49      0   90.583402  Other Intel Processor  "
      ]
     },
     "execution_count": 491,
     "metadata": {},
     "output_type": "execute_result"
    }
   ],
   "source": [
    "df[37:50]"
   ]
  },
  {
   "attachments": {},
   "cell_type": "markdown",
   "metadata": {},
   "source": [
    "### Defining Custom Function for cleaning column ***Memory*** and extracting 4 columns from it\n",
    "- #### SSD\n",
    "- #### HDD\n",
    "- #### Hybrid\n",
    "- #### Flash_Storage\n",
    "\n",
    "- #### this function detects the individual value for having [ SSD , HDD , Flash_storage , Hybird , +] and treats them accordingly"
   ]
  },
  {
   "attachments": {},
   "cell_type": "markdown",
   "metadata": {},
   "source": [
    "### Memory Cleaner Function"
   ]
  },
  {
   "cell_type": "code",
   "execution_count": 492,
   "metadata": {},
   "outputs": [],
   "source": [
    "ssd_values=[]\n",
    "hdd_values=[]\n",
    "flash_storage_values=[]\n",
    "hybrid_values=[]\n",
    "having_plus_values=[]\n",
    "\n",
    "def memory_cleaner(value):\n",
    "\n",
    "    if 'SSD' in value and '+' not in value:   #128GB SSD\n",
    "\n",
    "        value=value.split()[0]                #128GB\n",
    "\n",
    "        if 'TB' in value:                     #2TB -> 2000\n",
    "            value=value.replace('TB','000')\n",
    "        else:\n",
    "            value=value.replace('GB','')      #128\n",
    "\n",
    "        ssd_values.append(float(value))\n",
    "        hdd_values.append(0)\n",
    "        flash_storage_values.append(0)\n",
    "        hybrid_values.append(0)\n",
    "        \n",
    "\n",
    "    elif 'HDD' in value and '+' not in value:   #500GB HDD\n",
    "\n",
    "        value=value.split()[0]                   #500GB\n",
    "\n",
    "        if 'TB' in value:     \n",
    "            value=value.replace('TB','000')      # 2TB -> 2000\n",
    "        else:\n",
    "            value=value.replace('GB','')        #500\n",
    "\n",
    "        ssd_values.append(0)\n",
    "        hdd_values.append(float(value))\n",
    "        flash_storage_values.append(0)\n",
    "        hybrid_values.append(0)\n",
    "\n",
    "    elif 'Flash Storage' in value and '+' not in value:   #128GB Flash Storage\n",
    "        \n",
    "        value=value.split()[0]                            #128GB\n",
    "\n",
    "        if 'TB' in value:                                #2TB -> 2000\n",
    "            value=value.replace('TB','000')\n",
    "        else:                                            #128\n",
    "            value=value.replace('GB','')\n",
    "            \n",
    "        ssd_values.append(0)\n",
    "        hdd_values.append(0)\n",
    "        flash_storage_values.append(float(value))\n",
    "        hybrid_values.append(0)\n",
    "\n",
    "    elif 'Hybrid' in value and '+' not in value:    #1.0TB Hybrid\n",
    "\n",
    "        value=value.split()[0]                      #1.0TB\n",
    "        if 'TB' in value:                           #1.0TB -> 1000\n",
    "            value=value.replace('TB','000')\n",
    "        else:\n",
    "            value=value.replace('GB','')            #16GB -> 16\n",
    "        \n",
    "        ssd_values.append(0)\n",
    "        hdd_values.append(0)\n",
    "        flash_storage_values.append(0)\n",
    "        hybrid_values.append(float(value))\n",
    "\n",
    "\n",
    "    elif '+' in value:                             # 128GB SSD +  1TB HDD\n",
    "                                             \n",
    "        left_value,right_value=value.split('+')     # '128GB SSD ', '  1TB HDD'\n",
    "        \n",
    "        left_value_number=left_value.split()[0]\n",
    "        left_value_type=left_value.split()[1]            #getting the type of memory\n",
    "        \n",
    "        right_value_number=right_value.split()[0]\n",
    "        right_value_type=right_value.split()[1]\n",
    "\n",
    "        #COMBINATION 1\n",
    "        if left_value_type=='SSD' and right_value_type=='HDD':\n",
    "            \n",
    "            if 'TB' in left_value_number:\n",
    "                left_value_number=left_value_number.replace('TB','000')\n",
    "            else:\n",
    "                left_value_number=left_value_number.replace(\"GB\",'')\n",
    "            \n",
    "            if 'TB' in right_value_number:\n",
    "                right_value_number=right_value_number.replace(\"TB\",'000')\n",
    "            else:\n",
    "                right_value_number=right_value_number.replace('GB','')\n",
    "            \n",
    "            ssd_values.append(float(left_value_number))\n",
    "            hdd_values.append(float(right_value_number))\n",
    "            flash_storage_values.append(0)\n",
    "            hybrid_values.append(0)\n",
    "\n",
    "        # COMBINATION 2\n",
    "        elif left_value_type=='SSD' and right_value_type=='SSD':\n",
    "            \n",
    "            if 'TB' in left_value_number:\n",
    "                left_value_number=left_value_number.replace('TB','000')\n",
    "            else:\n",
    "                left_value_number=left_value_number.replace(\"GB\",'')\n",
    "            \n",
    "            if 'TB' in right_value_number:\n",
    "                right_value_number=right_value_number.replace(\"TB\",'000')\n",
    "            else:\n",
    "                right_value_number=right_value_number.replace('GB','')\n",
    "            \n",
    "            ssd_values.append(float(left_value_number)+float(right_value_number))\n",
    "            hdd_values.append(0)\n",
    "            flash_storage_values.append(0)\n",
    "            hybrid_values.append(0)\n",
    "\n",
    "        # COMBINATION 3\n",
    "        elif left_value_type=='Flash' and right_value_type=='HDD':\n",
    "            \n",
    "            if 'TB' in left_value_number:\n",
    "                left_value_number=left_value_number.replace('TB','000')\n",
    "            else:\n",
    "                left_value_number=left_value_number.replace(\"GB\",'')\n",
    "            \n",
    "            if 'TB' in right_value_number:\n",
    "                right_value_number=right_value_number.replace(\"TB\",'000')\n",
    "            else:\n",
    "                right_value_number=right_value_number.replace('GB','')\n",
    "            \n",
    "            ssd_values.append(0)\n",
    "            hdd_values.append(float(right_value_number))\n",
    "            flash_storage_values.append(float(left_value_number))\n",
    "            hybrid_values.append(0)\n",
    "        \n",
    "        # COMBINATION 4\n",
    "        elif left_value_type=='HDD' and right_value_type=='HDD':\n",
    "            \n",
    "            if 'TB' in left_value_number:\n",
    "                left_value_number=left_value_number.replace('TB','000')\n",
    "            else:\n",
    "                left_value_number=left_value_number.replace(\"GB\",'')\n",
    "            \n",
    "            if 'TB' in right_value_number:\n",
    "                right_value_number=right_value_number.replace(\"TB\",'000')\n",
    "            else:\n",
    "                right_value_number=right_value_number.replace('GB','')\n",
    "            \n",
    "            ssd_values.append(0)\n",
    "            hdd_values.append(float(left_value_number)+float(right_value_number))\n",
    "            flash_storage_values.append(0)\n",
    "            hybrid_values.append(0)\n",
    "        \n",
    "        # COMBINATION 5\n",
    "        elif left_value_type=='SSD' and right_value_type=='Hybrid':\n",
    "            \n",
    "            if 'TB' in left_value_number:\n",
    "                left_value_number=left_value_number.replace('TB','000')\n",
    "            else:\n",
    "                left_value_number=left_value_number.replace(\"GB\",'')\n",
    "            \n",
    "            if 'TB' in right_value_number:\n",
    "                right_value_number=right_value_number.replace(\"TB\",'000')\n",
    "            else:\n",
    "                right_value_number=right_value_number.replace('GB','')\n",
    "            \n",
    "            ssd_values.append(float(left_value_number))\n",
    "            hdd_values.append(0)\n",
    "            flash_storage_values.append(0)\n",
    "            hybrid_values.append(float(right_value_number))\n",
    "\n",
    "        having_plus_values.append([[left_value_number,left_value_type],[right_value_number,right_value_type]])\n",
    "\n",
    "df['Memory'].apply(memory_cleaner)\n",
    "\n",
    "\n",
    "df['SSD']=[int(i) for i in ssd_values]\n",
    "df['HDD']=[int(i) for i in hdd_values]\n",
    "df['Hybrid']=[int(i) for i in hybrid_values]\n",
    "df['Flash_Storage']=[int(i) for i in flash_storage_values]"
   ]
  },
  {
   "attachments": {},
   "cell_type": "markdown",
   "metadata": {},
   "source": [
    "### Dropping the memory column"
   ]
  },
  {
   "cell_type": "code",
   "execution_count": 494,
   "metadata": {},
   "outputs": [],
   "source": [
    "df.drop(columns='Memory',axis=1,inplace=True)"
   ]
  },
  {
   "attachments": {},
   "cell_type": "markdown",
   "metadata": {},
   "source": [
    "### Checking the Correlation with Price (target)"
   ]
  },
  {
   "cell_type": "code",
   "execution_count": 495,
   "metadata": {},
   "outputs": [
    {
     "data": {
      "text/plain": [
       "Ram              0.740106\n",
       "Weight           0.212192\n",
       "Price            1.000000\n",
       "Touchscreen      0.188631\n",
       "isIPS            0.250358\n",
       "ppi              0.469539\n",
       "SSD              0.669957\n",
       "HDD             -0.097006\n",
       "Hybrid          -0.005205\n",
       "Flash_Storage   -0.037176\n",
       "Name: Price, dtype: float64"
      ]
     },
     "execution_count": 495,
     "metadata": {},
     "output_type": "execute_result"
    }
   ],
   "source": [
    "df.corr()['Price']"
   ]
  },
  {
   "attachments": {},
   "cell_type": "markdown",
   "metadata": {},
   "source": [
    "- #### SSD has a very strong correlation\n",
    "- #### HDD has a very low negative correlation (as the HDD increases there will be very less drop in the price)\n",
    "- #### Dropping Hybrid and Flash Storage as they correalation coefficinet below a threshold"
   ]
  },
  {
   "cell_type": "code",
   "execution_count": 496,
   "metadata": {},
   "outputs": [],
   "source": [
    "df.drop(columns=['Hybrid','Flash_Storage'],axis=1,inplace=True)"
   ]
  },
  {
   "cell_type": "code",
   "execution_count": 497,
   "metadata": {},
   "outputs": [
    {
     "data": {
      "text/html": [
       "<div>\n",
       "<style scoped>\n",
       "    .dataframe tbody tr th:only-of-type {\n",
       "        vertical-align: middle;\n",
       "    }\n",
       "\n",
       "    .dataframe tbody tr th {\n",
       "        vertical-align: top;\n",
       "    }\n",
       "\n",
       "    .dataframe thead th {\n",
       "        text-align: right;\n",
       "    }\n",
       "</style>\n",
       "<table border=\"1\" class=\"dataframe\">\n",
       "  <thead>\n",
       "    <tr style=\"text-align: right;\">\n",
       "      <th></th>\n",
       "      <th>Company</th>\n",
       "      <th>TypeName</th>\n",
       "      <th>Ram</th>\n",
       "      <th>Gpu</th>\n",
       "      <th>OpSys</th>\n",
       "      <th>Weight</th>\n",
       "      <th>Price</th>\n",
       "      <th>Touchscreen</th>\n",
       "      <th>isIPS</th>\n",
       "      <th>ppi</th>\n",
       "      <th>cpu_brand</th>\n",
       "      <th>SSD</th>\n",
       "      <th>HDD</th>\n",
       "    </tr>\n",
       "  </thead>\n",
       "  <tbody>\n",
       "    <tr>\n",
       "      <th>0</th>\n",
       "      <td>Apple</td>\n",
       "      <td>Ultrabook</td>\n",
       "      <td>8</td>\n",
       "      <td>Intel Iris Plus Graphics 640</td>\n",
       "      <td>macOS</td>\n",
       "      <td>1.37</td>\n",
       "      <td>71378.6832</td>\n",
       "      <td>0</td>\n",
       "      <td>1</td>\n",
       "      <td>226.983005</td>\n",
       "      <td>Intel Core i5</td>\n",
       "      <td>128</td>\n",
       "      <td>0</td>\n",
       "    </tr>\n",
       "    <tr>\n",
       "      <th>1</th>\n",
       "      <td>Apple</td>\n",
       "      <td>Ultrabook</td>\n",
       "      <td>8</td>\n",
       "      <td>Intel HD Graphics 6000</td>\n",
       "      <td>macOS</td>\n",
       "      <td>1.34</td>\n",
       "      <td>47895.5232</td>\n",
       "      <td>0</td>\n",
       "      <td>0</td>\n",
       "      <td>127.677940</td>\n",
       "      <td>Intel Core i5</td>\n",
       "      <td>0</td>\n",
       "      <td>0</td>\n",
       "    </tr>\n",
       "    <tr>\n",
       "      <th>2</th>\n",
       "      <td>HP</td>\n",
       "      <td>Notebook</td>\n",
       "      <td>8</td>\n",
       "      <td>Intel HD Graphics 620</td>\n",
       "      <td>No OS</td>\n",
       "      <td>1.86</td>\n",
       "      <td>30636.0000</td>\n",
       "      <td>0</td>\n",
       "      <td>0</td>\n",
       "      <td>141.211998</td>\n",
       "      <td>Intel Core i5</td>\n",
       "      <td>256</td>\n",
       "      <td>0</td>\n",
       "    </tr>\n",
       "    <tr>\n",
       "      <th>3</th>\n",
       "      <td>Apple</td>\n",
       "      <td>Ultrabook</td>\n",
       "      <td>16</td>\n",
       "      <td>AMD Radeon Pro 455</td>\n",
       "      <td>macOS</td>\n",
       "      <td>1.83</td>\n",
       "      <td>135195.3360</td>\n",
       "      <td>0</td>\n",
       "      <td>1</td>\n",
       "      <td>220.534624</td>\n",
       "      <td>Intel Core i7</td>\n",
       "      <td>512</td>\n",
       "      <td>0</td>\n",
       "    </tr>\n",
       "    <tr>\n",
       "      <th>4</th>\n",
       "      <td>Apple</td>\n",
       "      <td>Ultrabook</td>\n",
       "      <td>8</td>\n",
       "      <td>Intel Iris Plus Graphics 650</td>\n",
       "      <td>macOS</td>\n",
       "      <td>1.37</td>\n",
       "      <td>96095.8080</td>\n",
       "      <td>0</td>\n",
       "      <td>1</td>\n",
       "      <td>226.983005</td>\n",
       "      <td>Intel Core i5</td>\n",
       "      <td>256</td>\n",
       "      <td>0</td>\n",
       "    </tr>\n",
       "  </tbody>\n",
       "</table>\n",
       "</div>"
      ],
      "text/plain": [
       "  Company   TypeName  Ram                           Gpu  OpSys  Weight  \\\n",
       "0   Apple  Ultrabook    8  Intel Iris Plus Graphics 640  macOS    1.37   \n",
       "1   Apple  Ultrabook    8        Intel HD Graphics 6000  macOS    1.34   \n",
       "2      HP   Notebook    8         Intel HD Graphics 620  No OS    1.86   \n",
       "3   Apple  Ultrabook   16            AMD Radeon Pro 455  macOS    1.83   \n",
       "4   Apple  Ultrabook    8  Intel Iris Plus Graphics 650  macOS    1.37   \n",
       "\n",
       "         Price  Touchscreen  isIPS         ppi      cpu_brand  SSD  HDD  \n",
       "0   71378.6832            0      1  226.983005  Intel Core i5  128    0  \n",
       "1   47895.5232            0      0  127.677940  Intel Core i5    0    0  \n",
       "2   30636.0000            0      0  141.211998  Intel Core i5  256    0  \n",
       "3  135195.3360            0      1  220.534624  Intel Core i7  512    0  \n",
       "4   96095.8080            0      1  226.983005  Intel Core i5  256    0  "
      ]
     },
     "execution_count": 497,
     "metadata": {},
     "output_type": "execute_result"
    }
   ],
   "source": [
    "df.head()"
   ]
  },
  {
   "attachments": {},
   "cell_type": "markdown",
   "metadata": {},
   "source": [
    "### Storing Only the Brand name from Gpu column in ***Gpu_brand***"
   ]
  },
  {
   "cell_type": "code",
   "execution_count": 498,
   "metadata": {},
   "outputs": [],
   "source": [
    "df['Gpu_brand']=df['Gpu'].apply(lambda x: x.split()[0])\n",
    "df.drop('Gpu',inplace=True,axis=1)"
   ]
  },
  {
   "cell_type": "code",
   "execution_count": 499,
   "metadata": {},
   "outputs": [
    {
     "data": {
      "text/plain": [
       "Intel     703\n",
       "Nvidia    396\n",
       "AMD       174\n",
       "ARM         1\n",
       "Name: Gpu_brand, dtype: int64"
      ]
     },
     "execution_count": 499,
     "metadata": {},
     "output_type": "execute_result"
    }
   ],
   "source": [
    "df['Gpu_brand'].value_counts()"
   ]
  },
  {
   "attachments": {},
   "cell_type": "markdown",
   "metadata": {},
   "source": [
    "#### Dropping the Arm category since it only has one instance"
   ]
  },
  {
   "cell_type": "code",
   "execution_count": 500,
   "metadata": {},
   "outputs": [],
   "source": [
    "df=df[~(df['Gpu_brand']=='ARM')]"
   ]
  },
  {
   "attachments": {},
   "cell_type": "markdown",
   "metadata": {},
   "source": [
    "### Univariate Analysis (Gpu_brand)"
   ]
  },
  {
   "cell_type": "code",
   "execution_count": 501,
   "metadata": {},
   "outputs": [
    {
     "data": {
      "text/plain": [
       "Intel     55.223881\n",
       "Nvidia    31.107620\n",
       "AMD       13.668500\n",
       "Name: Gpu_brand, dtype: float64"
      ]
     },
     "execution_count": 501,
     "metadata": {},
     "output_type": "execute_result"
    }
   ],
   "source": [
    "df['Gpu_brand'].value_counts()/len(df)*100"
   ]
  },
  {
   "cell_type": "code",
   "execution_count": 502,
   "metadata": {},
   "outputs": [
    {
     "data": {
      "image/png": "[encoded data removed]",
      "text/plain": [
       "<Figure size 640x480 with 1 Axes>"
      ]
     },
     "metadata": {},
     "output_type": "display_data"
    }
   ],
   "source": [
    "df['Gpu_brand'].value_counts().plot.bar()\n",
    "plt.show()"
   ]
  },
  {
   "attachments": {},
   "cell_type": "markdown",
   "metadata": {},
   "source": [
    "- #### Intel Gpu's has a whooping high selling rate of 55.22%\n",
    "- #### Nvidia Gpu has 31.10% selling rate and AMD has 13.66%"
   ]
  },
  {
   "attachments": {},
   "cell_type": "markdown",
   "metadata": {},
   "source": [
    "### Bivariate Analysis (Gpu_Brand - Price)"
   ]
  },
  {
   "cell_type": "code",
   "execution_count": 503,
   "metadata": {},
   "outputs": [
    {
     "data": {
      "image/png": "[encoded data removed]",
      "text/plain": [
       "<Figure size 640x480 with 1 Axes>"
      ]
     },
     "metadata": {},
     "output_type": "display_data"
    }
   ],
   "source": [
    "df.groupby('Gpu_brand')['Price'].mean().plot.bar()\n",
    "plt.show()"
   ]
  },
  {
   "attachments": {},
   "cell_type": "markdown",
   "metadata": {},
   "source": [
    "- #### AMD gpu's has an average price of 40k but still it has the lowest selling rate i.e 13.66%\n",
    "- #### Meanwhile intel gpu despite having a higher average price in range( 50k to 60k ) holds the highest selling rate of 55.22% [ one of the reasons for this can be customer trust or the quality and assurance they provide ]\n",
    "- #### Nvidia gpu's goes direct into the flagship range as they an average price of 80k"
   ]
  },
  {
   "attachments": {},
   "cell_type": "markdown",
   "metadata": {},
   "source": [
    "### Univariate Analysis ( OpSys )"
   ]
  },
  {
   "cell_type": "code",
   "execution_count": 504,
   "metadata": {},
   "outputs": [
    {
     "data": {
      "text/plain": [
       "Windows 10      82.246661\n",
       "No OS            5.184603\n",
       "Linux            4.556167\n",
       "Windows 7        3.534957\n",
       "Chrome OS        2.042419\n",
       "macOS            1.021210\n",
       "Mac OS X         0.628437\n",
       "Windows 10 S     0.628437\n",
       "Android          0.157109\n",
       "Name: OpSys, dtype: float64"
      ]
     },
     "execution_count": 504,
     "metadata": {},
     "output_type": "execute_result"
    }
   ],
   "source": [
    "df['OpSys'].value_counts()/len(df)*100"
   ]
  },
  {
   "cell_type": "code",
   "execution_count": 505,
   "metadata": {},
   "outputs": [
    {
     "data": {
      "image/png": "[encoded data removed]",
      "text/plain": [
       "<Figure size 640x480 with 1 Axes>"
      ]
     },
     "metadata": {},
     "output_type": "display_data"
    }
   ],
   "source": [
    "df['OpSys'].value_counts().plot.bar()\n",
    "plt.show()"
   ]
  },
  {
   "attachments": {},
   "cell_type": "markdown",
   "metadata": {},
   "source": [
    "- #### Laptops with windows 10 are clearly Dominating the market with a selling rate of 82.24%"
   ]
  },
  {
   "attachments": {},
   "cell_type": "markdown",
   "metadata": {},
   "source": [
    "### Bivariate Analysis ( OpsSys - Price )"
   ]
  },
  {
   "cell_type": "code",
   "execution_count": 506,
   "metadata": {},
   "outputs": [
    {
     "data": {
      "image/png": "[encoded data removed]",
      "text/plain": [
       "<Figure size 640x480 with 1 Axes>"
      ]
     },
     "metadata": {},
     "output_type": "display_data"
    }
   ],
   "source": [
    "df.groupby('OpSys')['Price'].mean().sort_values().plot.bar()\n",
    "plt.yticks(range(20000,110000,10000))\n",
    "plt.show()"
   ]
  },
  {
   "attachments": {},
   "cell_type": "markdown",
   "metadata": {},
   "source": [
    "- #### Windows 7 Laptops with the highest selling rate have an average price of approx 92k\n",
    "- #### macOS laptops are the most expensive and flagship ones with an average price of 95k"
   ]
  },
  {
   "attachments": {},
   "cell_type": "markdown",
   "metadata": {},
   "source": [
    "### Tranforming OpSys Column"
   ]
  },
  {
   "cell_type": "code",
   "execution_count": 507,
   "metadata": {},
   "outputs": [],
   "source": [
    "def transform_opSys(value):\n",
    "    if value=='Windows 10' or value=='Windows 7' or value=='Windows 10 S':\n",
    "        return 'Windows'\n",
    "    elif value=='macOS' or value=='Mac OS X':\n",
    "        return 'Mac'\n",
    "    else:\n",
    "        return 'Others/No OS/Linux'\n",
    "\n",
    "df['OpSys']=df['OpSys'].apply(transform_opSys)\n",
    "df.rename(columns={'OpSys':'os'},inplace=True)"
   ]
  },
  {
   "cell_type": "code",
   "execution_count": 508,
   "metadata": {},
   "outputs": [
    {
     "data": {
      "text/plain": [
       "Windows               1100\n",
       "Others/No OS/Linux     152\n",
       "Mac                     21\n",
       "Name: os, dtype: int64"
      ]
     },
     "execution_count": 508,
     "metadata": {},
     "output_type": "execute_result"
    }
   ],
   "source": [
    "df['os'].value_counts()"
   ]
  },
  {
   "attachments": {},
   "cell_type": "markdown",
   "metadata": {},
   "source": [
    "### Univariate Analysis ( Weight )"
   ]
  },
  {
   "cell_type": "code",
   "execution_count": 509,
   "metadata": {},
   "outputs": [
    {
     "data": {
      "image/png": "[encoded data removed]",
      "text/plain": [
       "<Figure size 640x480 with 1 Axes>"
      ]
     },
     "metadata": {},
     "output_type": "display_data"
    }
   ],
   "source": [
    "sns.distplot(df['Weight'])\n",
    "plt.show()"
   ]
  },
  {
   "attachments": {},
   "cell_type": "markdown",
   "metadata": {},
   "source": [
    "- #### the distribution of weight seems fine it's just having a bimodal distribution"
   ]
  },
  {
   "attachments": {},
   "cell_type": "markdown",
   "metadata": {},
   "source": [
    "### Bivariate Analysis ( Weight - Price )"
   ]
  },
  {
   "cell_type": "code",
   "execution_count": 510,
   "metadata": {},
   "outputs": [
    {
     "data": {
      "image/png": "[encoded data removed]",
      "text/plain": [
       "<Figure size 640x480 with 1 Axes>"
      ]
     },
     "metadata": {},
     "output_type": "display_data"
    }
   ],
   "source": [
    "sns.scatterplot(data=df,x='Weight',y='Price')\n",
    "plt.show()"
   ]
  },
  {
   "attachments": {},
   "cell_type": "markdown",
   "metadata": {},
   "source": [
    "- #### Very slight linear Relationship can be seen between increasing weight and Price"
   ]
  },
  {
   "attachments": {},
   "cell_type": "markdown",
   "metadata": {},
   "source": [
    "#### Checking Correlation"
   ]
  },
  {
   "cell_type": "code",
   "execution_count": 511,
   "metadata": {},
   "outputs": [
    {
     "data": {
      "image/png": "[encoded data removed]",
      "text/plain": [
       "<Figure size 640x480 with 2 Axes>"
      ]
     },
     "metadata": {},
     "output_type": "display_data"
    }
   ],
   "source": [
    "sns.heatmap(df.corr(),annot=True)\n",
    "plt.show()"
   ]
  },
  {
   "attachments": {},
   "cell_type": "markdown",
   "metadata": {},
   "source": [
    "### Transforming Target column Distribution"
   ]
  },
  {
   "cell_type": "code",
   "execution_count": 512,
   "metadata": {},
   "outputs": [
    {
     "data": {
      "image/png": "[encoded data removed]",
      "text/plain": [
       "<Figure size 640x480 with 1 Axes>"
      ]
     },
     "metadata": {},
     "output_type": "display_data"
    },
    {
     "data": {
      "image/png": "[encoded data removed]",
      "text/plain": [
       "<Figure size 640x480 with 1 Axes>"
      ]
     },
     "metadata": {},
     "output_type": "display_data"
    }
   ],
   "source": [
    "plt.subplot(111)\n",
    "df['Price'].plot.hist(bins=100)\n",
    "plt.title('Before transformation [ the distribution is Right skewed ]')\n",
    "plt.show()\n",
    "\n",
    "plt.subplot(122)\n",
    "\n",
    "# Applying log Transformation\n",
    "df['Price']=np.log(df['Price'])\n",
    "df['Price'].plot.hist(bins=100)\n",
    "plt.title('After log transformation [ data follows a normal distribution ]')\n",
    "plt.show()"
   ]
  },
  {
   "attachments": {},
   "cell_type": "markdown",
   "metadata": {},
   "source": [
    "### Modelling"
   ]
  },
  {
   "attachments": {},
   "cell_type": "markdown",
   "metadata": {},
   "source": [
    "### Splitting the data into Independent and Dependent Variables"
   ]
  },
  {
   "cell_type": "code",
   "execution_count": 513,
   "metadata": {},
   "outputs": [
    {
     "name": "stdout",
     "output_type": "stream",
     "text": [
      "Independent columns : 12\n",
      " ['Company', 'TypeName', 'Ram', 'os', 'Weight', 'Touchscreen', 'isIPS', 'ppi', 'cpu_brand', 'SSD', 'HDD', 'Gpu_brand']\n",
      "\n",
      " Dependent Column : Price\n"
     ]
    }
   ],
   "source": [
    "X=df.drop('Price',axis=1)\n",
    "y=df['Price']\n",
    "\n",
    "print(f\"Independent columns : {len(X.columns)}\\n {[i for i in X.columns]}\\n\\n Dependent Column : Price\")"
   ]
  },
  {
   "attachments": {},
   "cell_type": "markdown",
   "metadata": {},
   "source": [
    "### Performing Train Test Split"
   ]
  },
  {
   "cell_type": "code",
   "execution_count": 514,
   "metadata": {},
   "outputs": [
    {
     "name": "stdout",
     "output_type": "stream",
     "text": [
      "(891, 12) (382, 12) (891,) (382,)\n"
     ]
    }
   ],
   "source": [
    "X_train,X_test,y_train,y_test=train_test_split(X,y,random_state=2,test_size=0.3)\n",
    "\n",
    "print(X_train.shape,X_test.shape,y_train.shape,y_test.shape)"
   ]
  },
  {
   "cell_type": "code",
   "execution_count": 515,
   "metadata": {},
   "outputs": [
    {
     "data": {
      "text/html": [
       "<div>\n",
       "<style scoped>\n",
       "    .dataframe tbody tr th:only-of-type {\n",
       "        vertical-align: middle;\n",
       "    }\n",
       "\n",
       "    .dataframe tbody tr th {\n",
       "        vertical-align: top;\n",
       "    }\n",
       "\n",
       "    .dataframe thead th {\n",
       "        text-align: right;\n",
       "    }\n",
       "</style>\n",
       "<table border=\"1\" class=\"dataframe\">\n",
       "  <thead>\n",
       "    <tr style=\"text-align: right;\">\n",
       "      <th></th>\n",
       "      <th>Company</th>\n",
       "      <th>TypeName</th>\n",
       "      <th>Ram</th>\n",
       "      <th>os</th>\n",
       "      <th>Weight</th>\n",
       "      <th>Touchscreen</th>\n",
       "      <th>isIPS</th>\n",
       "      <th>ppi</th>\n",
       "      <th>cpu_brand</th>\n",
       "      <th>SSD</th>\n",
       "      <th>HDD</th>\n",
       "      <th>Gpu_brand</th>\n",
       "    </tr>\n",
       "  </thead>\n",
       "  <tbody>\n",
       "    <tr>\n",
       "      <th>540</th>\n",
       "      <td>Dell</td>\n",
       "      <td>Ultrabook</td>\n",
       "      <td>8</td>\n",
       "      <td>Windows</td>\n",
       "      <td>1.200</td>\n",
       "      <td>1</td>\n",
       "      <td>0</td>\n",
       "      <td>276.053530</td>\n",
       "      <td>Intel Core i7</td>\n",
       "      <td>256</td>\n",
       "      <td>0</td>\n",
       "      <td>Intel</td>\n",
       "    </tr>\n",
       "    <tr>\n",
       "      <th>1213</th>\n",
       "      <td>Dell</td>\n",
       "      <td>2 in 1 Convertible</td>\n",
       "      <td>8</td>\n",
       "      <td>Windows</td>\n",
       "      <td>2.191</td>\n",
       "      <td>1</td>\n",
       "      <td>1</td>\n",
       "      <td>141.211998</td>\n",
       "      <td>Intel Core i5</td>\n",
       "      <td>256</td>\n",
       "      <td>0</td>\n",
       "      <td>Intel</td>\n",
       "    </tr>\n",
       "    <tr>\n",
       "      <th>89</th>\n",
       "      <td>Dell</td>\n",
       "      <td>Ultrabook</td>\n",
       "      <td>8</td>\n",
       "      <td>Windows</td>\n",
       "      <td>1.210</td>\n",
       "      <td>0</td>\n",
       "      <td>1</td>\n",
       "      <td>165.632118</td>\n",
       "      <td>Intel Core i7</td>\n",
       "      <td>256</td>\n",
       "      <td>0</td>\n",
       "      <td>Intel</td>\n",
       "    </tr>\n",
       "    <tr>\n",
       "      <th>1132</th>\n",
       "      <td>Asus</td>\n",
       "      <td>Notebook</td>\n",
       "      <td>4</td>\n",
       "      <td>Windows</td>\n",
       "      <td>1.500</td>\n",
       "      <td>0</td>\n",
       "      <td>0</td>\n",
       "      <td>111.935204</td>\n",
       "      <td>Other Intel Processor</td>\n",
       "      <td>0</td>\n",
       "      <td>0</td>\n",
       "      <td>Intel</td>\n",
       "    </tr>\n",
       "    <tr>\n",
       "      <th>465</th>\n",
       "      <td>Asus</td>\n",
       "      <td>Notebook</td>\n",
       "      <td>4</td>\n",
       "      <td>Windows</td>\n",
       "      <td>2.000</td>\n",
       "      <td>0</td>\n",
       "      <td>0</td>\n",
       "      <td>100.454670</td>\n",
       "      <td>Other Intel Processor</td>\n",
       "      <td>0</td>\n",
       "      <td>500</td>\n",
       "      <td>Intel</td>\n",
       "    </tr>\n",
       "    <tr>\n",
       "      <th>...</th>\n",
       "      <td>...</td>\n",
       "      <td>...</td>\n",
       "      <td>...</td>\n",
       "      <td>...</td>\n",
       "      <td>...</td>\n",
       "      <td>...</td>\n",
       "      <td>...</td>\n",
       "      <td>...</td>\n",
       "      <td>...</td>\n",
       "      <td>...</td>\n",
       "      <td>...</td>\n",
       "      <td>...</td>\n",
       "    </tr>\n",
       "    <tr>\n",
       "      <th>466</th>\n",
       "      <td>Acer</td>\n",
       "      <td>Notebook</td>\n",
       "      <td>4</td>\n",
       "      <td>Windows</td>\n",
       "      <td>2.200</td>\n",
       "      <td>0</td>\n",
       "      <td>0</td>\n",
       "      <td>100.454670</td>\n",
       "      <td>Intel Core i3</td>\n",
       "      <td>0</td>\n",
       "      <td>500</td>\n",
       "      <td>Nvidia</td>\n",
       "    </tr>\n",
       "    <tr>\n",
       "      <th>299</th>\n",
       "      <td>Asus</td>\n",
       "      <td>Ultrabook</td>\n",
       "      <td>16</td>\n",
       "      <td>Windows</td>\n",
       "      <td>1.630</td>\n",
       "      <td>0</td>\n",
       "      <td>0</td>\n",
       "      <td>141.211998</td>\n",
       "      <td>Intel Core i7</td>\n",
       "      <td>512</td>\n",
       "      <td>0</td>\n",
       "      <td>Nvidia</td>\n",
       "    </tr>\n",
       "    <tr>\n",
       "      <th>493</th>\n",
       "      <td>Acer</td>\n",
       "      <td>Notebook</td>\n",
       "      <td>8</td>\n",
       "      <td>Windows</td>\n",
       "      <td>2.200</td>\n",
       "      <td>0</td>\n",
       "      <td>0</td>\n",
       "      <td>100.454670</td>\n",
       "      <td>AMD Processor</td>\n",
       "      <td>0</td>\n",
       "      <td>1000</td>\n",
       "      <td>AMD</td>\n",
       "    </tr>\n",
       "    <tr>\n",
       "      <th>527</th>\n",
       "      <td>Lenovo</td>\n",
       "      <td>Notebook</td>\n",
       "      <td>8</td>\n",
       "      <td>Others/No OS/Linux</td>\n",
       "      <td>2.200</td>\n",
       "      <td>0</td>\n",
       "      <td>0</td>\n",
       "      <td>100.454670</td>\n",
       "      <td>Intel Core i3</td>\n",
       "      <td>0</td>\n",
       "      <td>2000</td>\n",
       "      <td>Nvidia</td>\n",
       "    </tr>\n",
       "    <tr>\n",
       "      <th>1193</th>\n",
       "      <td>Apple</td>\n",
       "      <td>Ultrabook</td>\n",
       "      <td>8</td>\n",
       "      <td>Mac</td>\n",
       "      <td>0.920</td>\n",
       "      <td>0</td>\n",
       "      <td>1</td>\n",
       "      <td>226.415547</td>\n",
       "      <td>Other Intel Processor</td>\n",
       "      <td>0</td>\n",
       "      <td>0</td>\n",
       "      <td>Intel</td>\n",
       "    </tr>\n",
       "  </tbody>\n",
       "</table>\n",
       "<p>891 rows × 12 columns</p>\n",
       "</div>"
      ],
      "text/plain": [
       "     Company            TypeName  Ram                  os  Weight  \\\n",
       "540     Dell           Ultrabook    8             Windows   1.200   \n",
       "1213    Dell  2 in 1 Convertible    8             Windows   2.191   \n",
       "89      Dell           Ultrabook    8             Windows   1.210   \n",
       "1132    Asus            Notebook    4             Windows   1.500   \n",
       "465     Asus            Notebook    4             Windows   2.000   \n",
       "...      ...                 ...  ...                 ...     ...   \n",
       "466     Acer            Notebook    4             Windows   2.200   \n",
       "299     Asus           Ultrabook   16             Windows   1.630   \n",
       "493     Acer            Notebook    8             Windows   2.200   \n",
       "527   Lenovo            Notebook    8  Others/No OS/Linux   2.200   \n",
       "1193   Apple           Ultrabook    8                 Mac   0.920   \n",
       "\n",
       "      Touchscreen  isIPS         ppi              cpu_brand  SSD   HDD  \\\n",
       "540             1      0  276.053530          Intel Core i7  256     0   \n",
       "1213            1      1  141.211998          Intel Core i5  256     0   \n",
       "89              0      1  165.632118          Intel Core i7  256     0   \n",
       "1132            0      0  111.935204  Other Intel Processor    0     0   \n",
       "465             0      0  100.454670  Other Intel Processor    0   500   \n",
       "...           ...    ...         ...                    ...  ...   ...   \n",
       "466             0      0  100.454670          Intel Core i3    0   500   \n",
       "299             0      0  141.211998          Intel Core i7  512     0   \n",
       "493             0      0  100.454670          AMD Processor    0  1000   \n",
       "527             0      0  100.454670          Intel Core i3    0  2000   \n",
       "1193            0      1  226.415547  Other Intel Processor    0     0   \n",
       "\n",
       "     Gpu_brand  \n",
       "540      Intel  \n",
       "1213     Intel  \n",
       "89       Intel  \n",
       "1132     Intel  \n",
       "465      Intel  \n",
       "...        ...  \n",
       "466     Nvidia  \n",
       "299     Nvidia  \n",
       "493        AMD  \n",
       "527     Nvidia  \n",
       "1193     Intel  \n",
       "\n",
       "[891 rows x 12 columns]"
      ]
     },
     "execution_count": 515,
     "metadata": {},
     "output_type": "execute_result"
    }
   ],
   "source": [
    "X_train"
   ]
  },
  {
   "attachments": {},
   "cell_type": "markdown",
   "metadata": {},
   "source": [
    "### Making Pipeline"
   ]
  },
  {
   "cell_type": "code",
   "execution_count": 516,
   "metadata": {},
   "outputs": [],
   "source": [
    "step_1=ColumnTransformer([\n",
    "    ('onehotencoder',OneHotEncoder(sparse=False,drop='first'),[0,1,3,8,11])\n",
    "],remainder='passthrough')\n",
    "\n",
    "step_2=RandomForestRegressor(n_estimators=100,random_state=3,max_samples=0.5,max_features=0.75,max_depth=15)\n",
    "\n",
    "pipe=Pipeline([\n",
    "    ('step_1',step_1),\n",
    "    ('step2',step_2)\n",
    "])\n",
    "\n",
    "pipe.fit(X_train,y_train)\n",
    "y_pred_test=pipe.predict(X_test)"
   ]
  },
  {
   "attachments": {},
   "cell_type": "markdown",
   "metadata": {},
   "source": [
    "#### Evaluating the Model"
   ]
  },
  {
   "cell_type": "code",
   "execution_count": 517,
   "metadata": {},
   "outputs": [
    {
     "name": "stdout",
     "output_type": "stream",
     "text": [
      "R_sqaure : 0.8646331647805805\n",
      "Adjusted R2 : 0.8602309912775099\n",
      "Difference between r2 and adjusted_r2 : 0.004402173503070594\n",
      "Mean Absolute Error : 0.16794506454452723\n"
     ]
    }
   ],
   "source": [
    "r2=r2_score(y_test,y_pred_test)\n",
    "mae=mean_absolute_error(y_test,y_pred_test)\n",
    "adj_r2 = 1 - ((1 - r2) * (len(y_test) - 1)) / (len(y_test) - len(X.columns) - 1)\n",
    "\n",
    "\n",
    "print(f\"R_sqaure : {r2}\\nAdjusted R2 : {adj_r2}\\nDifference between r2 and adjusted_r2 : {r2-adj_r2}\\nMean Absolute Error : {mae}\")"
   ]
  },
  {
   "attachments": {},
   "cell_type": "markdown",
   "metadata": {},
   "source": [
    "- #### there is very less difference in r2 and adjusted r2 \n",
    "- #### this shows no sign of multicollinearity that could possibly effect the model's performance\n",
    "- #### Mean Absolute Error is also very low"
   ]
  },
  {
   "attachments": {},
   "cell_type": "markdown",
   "metadata": {},
   "source": [
    "### Dumping the pipeline"
   ]
  },
  {
   "cell_type": "code",
   "execution_count": 518,
   "metadata": {},
   "outputs": [],
   "source": [
    "pickle.dump(pipe,open('pipe.pkl','wb'))\n",
    "pickle.dump(df,open(\"df.pkl\",'wb'))"
   ]
  },
  {
   "cell_type": "code",
   "execution_count": 519,
   "metadata": {},
   "outputs": [
    {
     "data": {
      "text/html": [
       "<div>\n",
       "<style scoped>\n",
       "    .dataframe tbody tr th:only-of-type {\n",
       "        vertical-align: middle;\n",
       "    }\n",
       "\n",
       "    .dataframe tbody tr th {\n",
       "        vertical-align: top;\n",
       "    }\n",
       "\n",
       "    .dataframe thead th {\n",
       "        text-align: right;\n",
       "    }\n",
       "</style>\n",
       "<table border=\"1\" class=\"dataframe\">\n",
       "  <thead>\n",
       "    <tr style=\"text-align: right;\">\n",
       "      <th></th>\n",
       "      <th>Company</th>\n",
       "      <th>TypeName</th>\n",
       "      <th>Ram</th>\n",
       "      <th>os</th>\n",
       "      <th>Weight</th>\n",
       "      <th>Price</th>\n",
       "      <th>Touchscreen</th>\n",
       "      <th>isIPS</th>\n",
       "      <th>ppi</th>\n",
       "      <th>cpu_brand</th>\n",
       "      <th>SSD</th>\n",
       "      <th>HDD</th>\n",
       "      <th>Gpu_brand</th>\n",
       "    </tr>\n",
       "  </thead>\n",
       "  <tbody>\n",
       "    <tr>\n",
       "      <th>0</th>\n",
       "      <td>Apple</td>\n",
       "      <td>Ultrabook</td>\n",
       "      <td>8</td>\n",
       "      <td>Mac</td>\n",
       "      <td>1.37</td>\n",
       "      <td>11.175755</td>\n",
       "      <td>0</td>\n",
       "      <td>1</td>\n",
       "      <td>226.983005</td>\n",
       "      <td>Intel Core i5</td>\n",
       "      <td>128</td>\n",
       "      <td>0</td>\n",
       "      <td>Intel</td>\n",
       "    </tr>\n",
       "    <tr>\n",
       "      <th>1</th>\n",
       "      <td>Apple</td>\n",
       "      <td>Ultrabook</td>\n",
       "      <td>8</td>\n",
       "      <td>Mac</td>\n",
       "      <td>1.34</td>\n",
       "      <td>10.776777</td>\n",
       "      <td>0</td>\n",
       "      <td>0</td>\n",
       "      <td>127.677940</td>\n",
       "      <td>Intel Core i5</td>\n",
       "      <td>0</td>\n",
       "      <td>0</td>\n",
       "      <td>Intel</td>\n",
       "    </tr>\n",
       "    <tr>\n",
       "      <th>2</th>\n",
       "      <td>HP</td>\n",
       "      <td>Notebook</td>\n",
       "      <td>8</td>\n",
       "      <td>Others/No OS/Linux</td>\n",
       "      <td>1.86</td>\n",
       "      <td>10.329931</td>\n",
       "      <td>0</td>\n",
       "      <td>0</td>\n",
       "      <td>141.211998</td>\n",
       "      <td>Intel Core i5</td>\n",
       "      <td>256</td>\n",
       "      <td>0</td>\n",
       "      <td>Intel</td>\n",
       "    </tr>\n",
       "    <tr>\n",
       "      <th>3</th>\n",
       "      <td>Apple</td>\n",
       "      <td>Ultrabook</td>\n",
       "      <td>16</td>\n",
       "      <td>Mac</td>\n",
       "      <td>1.83</td>\n",
       "      <td>11.814476</td>\n",
       "      <td>0</td>\n",
       "      <td>1</td>\n",
       "      <td>220.534624</td>\n",
       "      <td>Intel Core i7</td>\n",
       "      <td>512</td>\n",
       "      <td>0</td>\n",
       "      <td>AMD</td>\n",
       "    </tr>\n",
       "    <tr>\n",
       "      <th>4</th>\n",
       "      <td>Apple</td>\n",
       "      <td>Ultrabook</td>\n",
       "      <td>8</td>\n",
       "      <td>Mac</td>\n",
       "      <td>1.37</td>\n",
       "      <td>11.473101</td>\n",
       "      <td>0</td>\n",
       "      <td>1</td>\n",
       "      <td>226.983005</td>\n",
       "      <td>Intel Core i5</td>\n",
       "      <td>256</td>\n",
       "      <td>0</td>\n",
       "      <td>Intel</td>\n",
       "    </tr>\n",
       "    <tr>\n",
       "      <th>...</th>\n",
       "      <td>...</td>\n",
       "      <td>...</td>\n",
       "      <td>...</td>\n",
       "      <td>...</td>\n",
       "      <td>...</td>\n",
       "      <td>...</td>\n",
       "      <td>...</td>\n",
       "      <td>...</td>\n",
       "      <td>...</td>\n",
       "      <td>...</td>\n",
       "      <td>...</td>\n",
       "      <td>...</td>\n",
       "      <td>...</td>\n",
       "    </tr>\n",
       "    <tr>\n",
       "      <th>1269</th>\n",
       "      <td>Asus</td>\n",
       "      <td>Notebook</td>\n",
       "      <td>4</td>\n",
       "      <td>Windows</td>\n",
       "      <td>2.20</td>\n",
       "      <td>10.555257</td>\n",
       "      <td>0</td>\n",
       "      <td>0</td>\n",
       "      <td>100.454670</td>\n",
       "      <td>Intel Core i7</td>\n",
       "      <td>0</td>\n",
       "      <td>500</td>\n",
       "      <td>Nvidia</td>\n",
       "    </tr>\n",
       "    <tr>\n",
       "      <th>1270</th>\n",
       "      <td>Lenovo</td>\n",
       "      <td>2 in 1 Convertible</td>\n",
       "      <td>4</td>\n",
       "      <td>Windows</td>\n",
       "      <td>1.80</td>\n",
       "      <td>10.433899</td>\n",
       "      <td>1</td>\n",
       "      <td>1</td>\n",
       "      <td>157.350512</td>\n",
       "      <td>Intel Core i7</td>\n",
       "      <td>128</td>\n",
       "      <td>0</td>\n",
       "      <td>Intel</td>\n",
       "    </tr>\n",
       "    <tr>\n",
       "      <th>1271</th>\n",
       "      <td>Lenovo</td>\n",
       "      <td>2 in 1 Convertible</td>\n",
       "      <td>16</td>\n",
       "      <td>Windows</td>\n",
       "      <td>1.30</td>\n",
       "      <td>11.288115</td>\n",
       "      <td>1</td>\n",
       "      <td>1</td>\n",
       "      <td>276.053530</td>\n",
       "      <td>Intel Core i7</td>\n",
       "      <td>512</td>\n",
       "      <td>0</td>\n",
       "      <td>Intel</td>\n",
       "    </tr>\n",
       "    <tr>\n",
       "      <th>1272</th>\n",
       "      <td>Lenovo</td>\n",
       "      <td>Notebook</td>\n",
       "      <td>2</td>\n",
       "      <td>Windows</td>\n",
       "      <td>1.50</td>\n",
       "      <td>9.409283</td>\n",
       "      <td>0</td>\n",
       "      <td>0</td>\n",
       "      <td>111.935204</td>\n",
       "      <td>Other Intel Processor</td>\n",
       "      <td>0</td>\n",
       "      <td>0</td>\n",
       "      <td>Intel</td>\n",
       "    </tr>\n",
       "    <tr>\n",
       "      <th>1273</th>\n",
       "      <td>HP</td>\n",
       "      <td>Notebook</td>\n",
       "      <td>6</td>\n",
       "      <td>Windows</td>\n",
       "      <td>2.19</td>\n",
       "      <td>10.614129</td>\n",
       "      <td>0</td>\n",
       "      <td>0</td>\n",
       "      <td>100.454670</td>\n",
       "      <td>Intel Core i7</td>\n",
       "      <td>0</td>\n",
       "      <td>1000</td>\n",
       "      <td>AMD</td>\n",
       "    </tr>\n",
       "  </tbody>\n",
       "</table>\n",
       "<p>1273 rows × 13 columns</p>\n",
       "</div>"
      ],
      "text/plain": [
       "     Company            TypeName  Ram                  os  Weight      Price  \\\n",
       "0      Apple           Ultrabook    8                 Mac    1.37  11.175755   \n",
       "1      Apple           Ultrabook    8                 Mac    1.34  10.776777   \n",
       "2         HP            Notebook    8  Others/No OS/Linux    1.86  10.329931   \n",
       "3      Apple           Ultrabook   16                 Mac    1.83  11.814476   \n",
       "4      Apple           Ultrabook    8                 Mac    1.37  11.473101   \n",
       "...      ...                 ...  ...                 ...     ...        ...   \n",
       "1269    Asus            Notebook    4             Windows    2.20  10.555257   \n",
       "1270  Lenovo  2 in 1 Convertible    4             Windows    1.80  10.433899   \n",
       "1271  Lenovo  2 in 1 Convertible   16             Windows    1.30  11.288115   \n",
       "1272  Lenovo            Notebook    2             Windows    1.50   9.409283   \n",
       "1273      HP            Notebook    6             Windows    2.19  10.614129   \n",
       "\n",
       "      Touchscreen  isIPS         ppi              cpu_brand  SSD   HDD  \\\n",
       "0               0      1  226.983005          Intel Core i5  128     0   \n",
       "1               0      0  127.677940          Intel Core i5    0     0   \n",
       "2               0      0  141.211998          Intel Core i5  256     0   \n",
       "3               0      1  220.534624          Intel Core i7  512     0   \n",
       "4               0      1  226.983005          Intel Core i5  256     0   \n",
       "...           ...    ...         ...                    ...  ...   ...   \n",
       "1269            0      0  100.454670          Intel Core i7    0   500   \n",
       "1270            1      1  157.350512          Intel Core i7  128     0   \n",
       "1271            1      1  276.053530          Intel Core i7  512     0   \n",
       "1272            0      0  111.935204  Other Intel Processor    0     0   \n",
       "1273            0      0  100.454670          Intel Core i7    0  1000   \n",
       "\n",
       "     Gpu_brand  \n",
       "0        Intel  \n",
       "1        Intel  \n",
       "2        Intel  \n",
       "3          AMD  \n",
       "4        Intel  \n",
       "...        ...  \n",
       "1269    Nvidia  \n",
       "1270     Intel  \n",
       "1271     Intel  \n",
       "1272     Intel  \n",
       "1273       AMD  \n",
       "\n",
       "[1273 rows x 13 columns]"
      ]
     },
     "execution_count": 519,
     "metadata": {},
     "output_type": "execute_result"
    }
   ],
   "source": [
    "df"
   ]
  }
 ],
 "metadata": {
  "kernelspec": {
   "display_name": "base",
   "language": "python",
   "name": "python3"
  },
  "language_info": {
   "codemirror_mode": {
    "name": "ipython",
    "version": 3
   },
   "file_extension": ".py",
   "mimetype": "text/x-python",
   "name": "python",
   "nbconvert_exporter": "python",
   "pygments_lexer": "ipython3",
   "version": "3.7.9"
  },
  "orig_nbformat": 4
 },
 "nbformat": 4,
 "nbformat_minor": 2
}
